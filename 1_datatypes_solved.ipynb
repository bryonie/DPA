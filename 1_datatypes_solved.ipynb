{
 "cells": [
  {
   "cell_type": "markdown",
   "metadata": {
    "slideshow": {
     "slide_type": "slide"
    }
   },
   "source": [
    "# 1. Numpy data types"
   ]
  },
  {
   "cell_type": "markdown",
   "metadata": {
    "slideshow": {
     "slide_type": "slide"
    }
   },
   "source": [
    "## Numpy and scipy\n",
    "\n",
    "- Numpy: datastructures and basic operations for scientific computing\n",
    "\n",
    "   - This week we'll discuss numpy datatypes\n",
    "\n",
    "- Scipy: specialized functionality for specific scientific domains\n",
    "- Pandas: data frames in the style of R\n",
    "   - especially useful for time series\n"
   ]
  },
  {
   "cell_type": "markdown",
   "metadata": {
    "slideshow": {
     "slide_type": "slide"
    }
   },
   "source": [
    "## Numpy resources\n",
    "\n",
    "- Scipy Lecture Notes: http://www.scipy-lectures.org/\n",
    "- A short numpy tutorial: https://docs.scipy.org/doc/numpy-dev/user/quickstart.html\n",
    "- Basics of numpy:\n",
    "https://www.safaribooksonline.com/library/view/python-for-data/9781449323592/ch04.html\n",
    "\n",
    "- Library reference: \n",
    "http://docs.scipy.org/doc/numpy/reference/index.html#reference \n",
    "- User guide: http://docs.scipy.org/doc/numpy/user/index.html#user\n",
    "\n"
   ]
  },
  {
   "cell_type": "code",
   "execution_count": 4,
   "metadata": {
    "slideshow": {
     "slide_type": "slide"
    }
   },
   "outputs": [],
   "source": [
    "import numpy as np"
   ]
  },
  {
   "cell_type": "code",
   "execution_count": 5,
   "metadata": {},
   "outputs": [
    {
     "data": {
      "text/plain": [
       "array([123, 345])"
      ]
     },
     "execution_count": 5,
     "metadata": {},
     "output_type": "execute_result"
    }
   ],
   "source": [
    "np.array([123,345])\n"
   ]
  },
  {
   "cell_type": "markdown",
   "metadata": {
    "slideshow": {
     "slide_type": "slide"
    }
   },
   "source": [
    "## Data types in Python\n",
    "\n",
    "Before discussing Numpy datatypes, first a small review of the data types in Python:\n",
    "\n",
    "- boolean (True, False)\n",
    "- int (integer), float, complex \n",
    "- str (string)\n",
    "- byte\n",
    "- list \n",
    "- tuple\n",
    "- set\n",
    "- dict  (dictionary)\n",
    "\n",
    "\n",
    "The types can be divided into immutable and mutable types. \n",
    "The content of immutable types cannot be changed after creation. \n",
    "\n",
    "Which are the immutable Python data types?"
   ]
  },
  {
   "cell_type": "code",
   "execution_count": 6,
   "metadata": {},
   "outputs": [],
   "source": [
    "\n",
    "a = set([1,2,3])\n",
    "a.add(4)\n"
   ]
  },
  {
   "cell_type": "code",
   "execution_count": 7,
   "metadata": {},
   "outputs": [
    {
     "name": "stdout",
     "output_type": "stream",
     "text": [
      "{1, 2, 3, 4}\n"
     ]
    }
   ],
   "source": [
    "print(a)"
   ]
  },
  {
   "cell_type": "code",
   "execution_count": 8,
   "metadata": {},
   "outputs": [
    {
     "name": "stdout",
     "output_type": "stream",
     "text": [
      "<class 'int'>\n",
      "<class 'str'>\n",
      "<class 'float'>\n"
     ]
    }
   ],
   "source": [
    "a = [1, \"two\", 3.0]\n",
    "for ai in a:\n",
    "    print(type(ai))"
   ]
  },
  {
   "cell_type": "markdown",
   "metadata": {
    "slideshow": {
     "slide_type": "slide"
    }
   },
   "source": [
    "## Numpy array\n",
    "\n",
    "- Numpy is based on **arrays**. \n",
    "- Array is a kind of table where each cell contains an item of the same **datatype**\n",
    "- One array can only have one data type\n",
    "- This seems inconventient. What advantages does this have?\n",
    "\n"
   ]
  },
  {
   "cell_type": "markdown",
   "metadata": {
    "slideshow": {
     "slide_type": "slide"
    }
   },
   "source": [
    "## Numerical datatypes\n",
    "\n",
    "\n",
    "The 5 basic data types of a numerical value are:\n",
    "\n",
    "- float (float16, float32, or float64)\n",
    "- integer (int8, int16, int32, or int64)\n",
    "- unsigned integer: this number cannot be negative (uint8, uint16, uint32, or uint64)\n",
    "- boolean (bool)\n",
    "- complex (complex64 or complex128)"
   ]
  },
  {
   "cell_type": "code",
   "execution_count": 9,
   "metadata": {
    "slideshow": {
     "slide_type": "slide"
    }
   },
   "outputs": [
    {
     "name": "stdout",
     "output_type": "stream",
     "text": [
      "int32\n",
      "float64\n"
     ]
    }
   ],
   "source": [
    "x = np.array([1,2,3], dtype=np.int32)\n",
    "print(x.dtype)\n",
    "y = np.array([1.0, 2.0, 3.0])\n",
    "print(y.dtype)"
   ]
  },
  {
   "cell_type": "markdown",
   "metadata": {
    "slideshow": {
     "slide_type": "slide"
    }
   },
   "source": [
    "## Bits and bytes\n",
    "The data types `int8` (and `uint8`) use 1 byte (8 bits). 1 byte contains 8 bits and a bit can have either value 0 or value 1. \n",
    "How many different values can `int8` it represent?"
   ]
  },
  {
   "cell_type": "code",
   "execution_count": 10,
   "metadata": {},
   "outputs": [
    {
     "data": {
      "text/plain": [
       "256"
      ]
     },
     "execution_count": 10,
     "metadata": {},
     "output_type": "execute_result"
    }
   ],
   "source": [
    "2**8"
   ]
  },
  {
   "cell_type": "code",
   "execution_count": 11,
   "metadata": {
    "slideshow": {
     "slide_type": "slide"
    }
   },
   "outputs": [
    {
     "name": "stdout",
     "output_type": "stream",
     "text": [
      "uint8\n",
      "bool\n"
     ]
    }
   ],
   "source": [
    "# Array with bytes\n",
    "x = np.array([1, 2, 3], dtype=np.uint8)\n",
    "print(x.dtype)\n",
    "# array with booleans:\n",
    "z = np.array([True, False, True])\n",
    "print(z.dtype)"
   ]
  },
  {
   "cell_type": "markdown",
   "metadata": {
    "slideshow": {
     "slide_type": "slide"
    }
   },
   "source": [
    "## Strings\n",
    "\n",
    "Another important datatype is:\n",
    "\n",
    "- string\n",
    "- in numpy, the string datatype includes indication of its size.\n"
   ]
  },
  {
   "cell_type": "code",
   "execution_count": 12,
   "metadata": {
    "slideshow": {
     "slide_type": "slide"
    }
   },
   "outputs": [
    {
     "name": "stdout",
     "output_type": "stream",
     "text": [
      "<U4\n"
     ]
    }
   ],
   "source": [
    "a = np.array([\"abcf\", \"de\"])\n",
    "print(a.dtype)\n"
   ]
  },
  {
   "cell_type": "markdown",
   "metadata": {
    "slideshow": {
     "slide_type": "slide"
    }
   },
   "source": [
    "## Implicit conversions\n",
    "- when you create an array with from a list with mixed data, numpy will do a conversion\n",
    "- best to avoid this and specify desired result with `dtype=`."
   ]
  },
  {
   "cell_type": "code",
   "execution_count": 14,
   "metadata": {
    "slideshow": {
     "slide_type": "slide"
    }
   },
   "outputs": [
    {
     "name": "stdout",
     "output_type": "stream",
     "text": [
      "[1, 3.4, True, (2.3+4.5j), 'a']\n",
      "['1' '3.4' 'True' '(2.3+4.5j)' 'a']\n",
      "<U64\n"
     ]
    },
    {
     "ename": "TypeError",
     "evalue": "Can't convert 'int' object to str implicitly",
     "output_type": "error",
     "traceback": [
      "\u001b[0;31m---------------------------------------------------------------------------\u001b[0m",
      "\u001b[0;31mTypeError\u001b[0m                                 Traceback (most recent call last)",
      "\u001b[0;32m<ipython-input-14-d2afbecc67af>\u001b[0m in \u001b[0;36m<module>\u001b[0;34m()\u001b[0m\n\u001b[1;32m      4\u001b[0m \u001b[0mprint\u001b[0m\u001b[0;34m(\u001b[0m\u001b[0ma\u001b[0m\u001b[0;34m)\u001b[0m\u001b[0;34m\u001b[0m\u001b[0m\n\u001b[1;32m      5\u001b[0m \u001b[0mprint\u001b[0m\u001b[0;34m(\u001b[0m\u001b[0ma\u001b[0m\u001b[0;34m.\u001b[0m\u001b[0mdtype\u001b[0m\u001b[0;34m)\u001b[0m\u001b[0;34m\u001b[0m\u001b[0m\n\u001b[0;32m----> 6\u001b[0;31m \u001b[0mprint\u001b[0m\u001b[0;34m(\u001b[0m\u001b[0ma\u001b[0m\u001b[0;34m[\u001b[0m\u001b[0;36m0\u001b[0m\u001b[0;34m]\u001b[0m\u001b[0;34m+\u001b[0m\u001b[0;36m2\u001b[0m\u001b[0;34m)\u001b[0m\u001b[0;34m\u001b[0m\u001b[0m\n\u001b[0m",
      "\u001b[0;31mTypeError\u001b[0m: Can't convert 'int' object to str implicitly"
     ]
    }
   ],
   "source": [
    "l = [1, 3.4, True, 2.3+4.5j, \"a\"]\n",
    "print(l)\n",
    "a = np.array(l)\n",
    "print(a)\n",
    "print(a.dtype)\n",
    "print(a[0]+2)"
   ]
  },
  {
   "cell_type": "markdown",
   "metadata": {
    "slideshow": {
     "slide_type": "slide"
    }
   },
   "source": [
    "## Explicit conversions\n",
    "\n",
    "- specify datatype when creating an array from a list\n",
    "- convert array of one type into another"
   ]
  },
  {
   "cell_type": "code",
   "execution_count": 15,
   "metadata": {
    "slideshow": {
     "slide_type": "slide"
    }
   },
   "outputs": [
    {
     "name": "stdout",
     "output_type": "stream",
     "text": [
      "[ 9.  8.  7.  6.] float32\n",
      "[ 9.  8.  7.  6.] float32\n"
     ]
    }
   ],
   "source": [
    "# explicitly specify the data type:\n",
    "y = np.array([9, 8, 7, 6], dtype=np.float32)\n",
    "print(y, y.dtype)\n",
    "# this also works\n",
    "y = np.array([9, 8, 7, 6], dtype='float32')\n",
    "print(y, y.dtype)\n"
   ]
  },
  {
   "cell_type": "code",
   "execution_count": 16,
   "metadata": {
    "slideshow": {
     "slide_type": "slide"
    }
   },
   "outputs": [
    {
     "name": "stdout",
     "output_type": "stream",
     "text": [
      "['12' '3' '24']\n",
      "[12  3 24]\n",
      "int64\n"
     ]
    }
   ],
   "source": [
    "strings = np.array([\"12\", \"3\", \"24\"])\n",
    "print(strings)\n",
    "z = strings.astype('int')\n",
    "print(z)\n",
    "print(z.dtype)"
   ]
  },
  {
   "cell_type": "code",
   "execution_count": 18,
   "metadata": {
    "slideshow": {
     "slide_type": "slide"
    }
   },
   "outputs": [
    {
     "name": "stdout",
     "output_type": "stream",
     "text": [
      "['1.4' '3.4' '5.8'] <U3\n",
      "[ 1.4  3.4  5.8] float64\n",
      "[1 3 5] int64\n",
      "[ 1.  3.  5.]\n"
     ]
    }
   ],
   "source": [
    "# convert an array with strings to float:\n",
    "y = np.array([\"1.4\", \"3.4\", \"5.8\"])\n",
    "print(y, y.dtype)\n",
    "h = y.astype('float')\n",
    "print(h, h.dtype)\n",
    "g = h.astype('int')\n",
    "print(g, g.dtype)\n",
    "print(g.astype('float'))"
   ]
  },
  {
   "cell_type": "code",
   "execution_count": 20,
   "metadata": {
    "slideshow": {
     "slide_type": "slide"
    }
   },
   "outputs": [
    {
     "ename": "ValueError",
     "evalue": "invalid literal for int() with base 10: 'one'",
     "output_type": "error",
     "traceback": [
      "\u001b[0;31m---------------------------------------------------------------------------\u001b[0m",
      "\u001b[0;31mValueError\u001b[0m                                Traceback (most recent call last)",
      "\u001b[0;32m<ipython-input-20-e6ca3b5dc525>\u001b[0m in \u001b[0;36m<module>\u001b[0;34m()\u001b[0m\n\u001b[1;32m      1\u001b[0m \u001b[0mnumerals\u001b[0m \u001b[0;34m=\u001b[0m \u001b[0;34m[\u001b[0m\u001b[0;34m\"one\"\u001b[0m\u001b[0;34m,\u001b[0m \u001b[0;34m\"two\"\u001b[0m\u001b[0;34m,\u001b[0m \u001b[0;34m\"three\"\u001b[0m\u001b[0;34m]\u001b[0m\u001b[0;34m\u001b[0m\u001b[0m\n\u001b[0;32m----> 2\u001b[0;31m \u001b[0ma\u001b[0m \u001b[0;34m=\u001b[0m \u001b[0mnp\u001b[0m\u001b[0;34m.\u001b[0m\u001b[0marray\u001b[0m\u001b[0;34m(\u001b[0m\u001b[0mnumerals\u001b[0m\u001b[0;34m,\u001b[0m \u001b[0mdtype\u001b[0m\u001b[0;34m=\u001b[0m\u001b[0;34m'int'\u001b[0m\u001b[0;34m)\u001b[0m\u001b[0;34m\u001b[0m\u001b[0m\n\u001b[0m\u001b[1;32m      3\u001b[0m \u001b[0mprint\u001b[0m \u001b[0;34m(\u001b[0m\u001b[0ma\u001b[0m\u001b[0;34m,\u001b[0m \u001b[0ma\u001b[0m\u001b[0;34m.\u001b[0m\u001b[0mdtype\u001b[0m\u001b[0;34m)\u001b[0m\u001b[0;34m\u001b[0m\u001b[0m\n",
      "\u001b[0;31mValueError\u001b[0m: invalid literal for int() with base 10: 'one'"
     ]
    }
   ],
   "source": [
    "numerals = [\"one\", \"two\", \"three\"]\n",
    "a = np.array(numerals, dtype='int')\n",
    "print (a, a.dtype)"
   ]
  },
  {
   "cell_type": "markdown",
   "metadata": {
    "slideshow": {
     "slide_type": "slide"
    }
   },
   "source": [
    "## Lossy conversions\n",
    "\n",
    "- Some conversions lose information.\n",
    "  - Converting from float to integer, the decimal part is lost. \n",
    "  - Converting from integer to boolean, zeros become False, everything else becomes True."
   ]
  },
  {
   "cell_type": "code",
   "execution_count": 22,
   "metadata": {
    "slideshow": {
     "slide_type": "slide"
    }
   },
   "outputs": [
    {
     "name": "stdout",
     "output_type": "stream",
     "text": [
      "[ 2.2  3.2  2.8]\n",
      "float64\n",
      "[2 3 2]\n",
      "int64\n"
     ]
    }
   ],
   "source": [
    "# from float to integer\n",
    "x = np.array([2.2, 3.2, 2.8])\n",
    "print(x)\n",
    "print(x.dtype)\n",
    "a = x.astype(np.int)\n",
    "print(a)\n",
    "print(a.dtype)"
   ]
  },
  {
   "cell_type": "code",
   "execution_count": 23,
   "metadata": {
    "slideshow": {
     "slide_type": "slide"
    }
   },
   "outputs": [
    {
     "name": "stdout",
     "output_type": "stream",
     "text": [
      "[   0    1    1    0   -1 -123   12]\n",
      "int64\n",
      "[False  True  True False  True  True  True]\n",
      "bool\n"
     ]
    }
   ],
   "source": [
    "# from int to boolean\n",
    "x = np.array([0, 1, 1, 0, -1, -123, 12], dtype=np.int)\n",
    "print(x)\n",
    "print(x.dtype)\n",
    "a = x.astype(np.bool)\n",
    "print(a)\n",
    "print(a.dtype)"
   ]
  },
  {
   "cell_type": "markdown",
   "metadata": {
    "slideshow": {
     "slide_type": "slide"
    }
   },
   "source": [
    "## Float operations in numpy\n",
    "\n",
    "- In Numpy, division by zero results in inf (infinity) and a RuntimeWarning. \n",
    "- In basic Python, division by zero results in the ZeroDivisionError message."
   ]
  },
  {
   "cell_type": "code",
   "execution_count": 24,
   "metadata": {
    "slideshow": {
     "slide_type": "slide"
    }
   },
   "outputs": [
    {
     "ename": "ZeroDivisionError",
     "evalue": "float division by zero",
     "output_type": "error",
     "traceback": [
      "\u001b[0;31m---------------------------------------------------------------------------\u001b[0m",
      "\u001b[0;31mZeroDivisionError\u001b[0m                         Traceback (most recent call last)",
      "\u001b[0;32m<ipython-input-24-d5317764bbf2>\u001b[0m in \u001b[0;36m<module>\u001b[0;34m()\u001b[0m\n\u001b[0;32m----> 1\u001b[0;31m \u001b[0;36m1.0\u001b[0m \u001b[0;34m/\u001b[0m \u001b[0;36m0.0\u001b[0m\u001b[0;34m\u001b[0m\u001b[0m\n\u001b[0m",
      "\u001b[0;31mZeroDivisionError\u001b[0m: float division by zero"
     ]
    }
   ],
   "source": [
    "1.0 / 0.0"
   ]
  },
  {
   "cell_type": "code",
   "execution_count": 25,
   "metadata": {
    "slideshow": {
     "slide_type": "slide"
    }
   },
   "outputs": [
    {
     "name": "stdout",
     "output_type": "stream",
     "text": [
      "[ inf  inf]\n"
     ]
    },
    {
     "name": "stderr",
     "output_type": "stream",
     "text": [
      "/usr/local/lib/python3.5/dist-packages/ipykernel_launcher.py:3: RuntimeWarning: divide by zero encountered in true_divide\n",
      "  This is separate from the ipykernel package so we can avoid doing imports until\n"
     ]
    }
   ],
   "source": [
    "# divison by zero in Numpy\n",
    "x = np.array([1.0, 2.0])\n",
    "print(x/0)"
   ]
  },
  {
   "cell_type": "markdown",
   "metadata": {
    "slideshow": {
     "slide_type": "slide"
    }
   },
   "source": [
    "## Special float values\n",
    "\n",
    "- numpy has representations for some special values including\n",
    "    - infinities\n",
    "        - numpy.inf for infinity\n",
    "        - numpy.PINF for positive infinity\n",
    "        - numpy.NINF for negative infinity\n",
    "    - Not a number: wrong or undefined value\n",
    "        - numpy.nan : Create NAN value"
   ]
  },
  {
   "cell_type": "markdown",
   "metadata": {
    "slideshow": {
     "slide_type": "slide"
    }
   },
   "source": [
    "## Checking for special values\n",
    "\n",
    "In order to check for these the following functions can be useful:\n",
    "\n",
    "- numpy.isinf(x) : This function returns True when the value of x is either positive infinity or negative infinity. \n",
    "- numpy.isneginf(x) : This function returns True when the value of x is negative infinity.\n",
    "- numpy.isposinf(x) : This function returns True when the value of x is positive infinity.\n",
    "- numpy.isfinite(x) : This function is the opposite of the isinf() function.\n",
    "- numpy.isnan(x) : This function returns True when the value of x is Not A Number (NAN).        "
   ]
  },
  {
   "cell_type": "markdown",
   "metadata": {
    "collapsed": true,
    "slideshow": {
     "slide_type": "slide"
    }
   },
   "source": [
    "# Exercises"
   ]
  },
  {
   "cell_type": "markdown",
   "metadata": {
    "slideshow": {
     "slide_type": "slide"
    }
   },
   "source": [
    "## Exercise 1.1\n",
    "\n",
    "Some conversions between datatypes lose information, and are therefore not reversible. \n",
    "Decide which of the following conversions are lossy i.e. not reversible:\n",
    "1. float -> int\n",
    "2. bool  -> int\n",
    "3. int   -> '<U16'\n",
    "4. int   -> float\n",
    "5. float64 -> float32\n",
    "6. float32 -> float64\n",
    "\n",
    "Write the functiuon `reversible` to check your guesses. This function should take an array of values and the target datatype, and check whether the values in the array can be converted to the target datatype and back to the original one, and if they stay the same after the conversion. "
   ]
  },
  {
   "cell_type": "code",
   "execution_count": 26,
   "metadata": {
    "slideshow": {
     "slide_type": "slide"
    }
   },
   "outputs": [],
   "source": [
    "def reversible(a, dtype):\n",
    "    \"\"\"Returns True if all the values in array a stay the same afer a round-trip conversion to and from dtype.\"\"\"\n",
    "    # 8<---------------\n",
    "    return np.all(a == a.astype(dtype).astype(a.dtype))"
   ]
  },
  {
   "cell_type": "markdown",
   "metadata": {
    "slideshow": {
     "slide_type": "slide"
    }
   },
   "source": [
    "**Note**: this function only checks whether the particular values in the given array are convertible without losing information. It cannot check all the possible values of a given datatype pair.\n",
    "For example:"
   ]
  },
  {
   "cell_type": "code",
   "execution_count": 34,
   "metadata": {
    "slideshow": {
     "slide_type": "slide"
    }
   },
   "outputs": [
    {
     "name": "stdout",
     "output_type": "stream",
     "text": [
      "True\n",
      "False\n"
     ]
    }
   ],
   "source": [
    "a = np.array([0, 1], dtype=np.int32)\n",
    "print(reversible(a, np.bool))\n",
    "b = np.array([0, 1, 2], dtype=np.int32)\n",
    "print(reversible(b, np.bool))\n"
   ]
  },
  {
   "cell_type": "code",
   "execution_count": 35,
   "metadata": {
    "slideshow": {
     "slide_type": "slide"
    }
   },
   "outputs": [
    {
     "name": "stdout",
     "output_type": "stream",
     "text": [
      "[  0.00000000e+00   1.00000000e-01   2.70000000e+00   2.65599228e+03]\n",
      "False\n"
     ]
    }
   ],
   "source": [
    "# float -> int\n",
    "a = np.array([0.0, 0.1, 2.7, 2.2**10])\n",
    "print(a)\n",
    "print(reversible(a, np.int))"
   ]
  },
  {
   "cell_type": "code",
   "execution_count": 36,
   "metadata": {
    "slideshow": {
     "slide_type": "slide"
    }
   },
   "outputs": [
    {
     "name": "stdout",
     "output_type": "stream",
     "text": [
      "True\n"
     ]
    }
   ],
   "source": [
    "# bool -> int\n",
    "a = np.array([True, False])\n",
    "print(reversible(a, np.int))"
   ]
  },
  {
   "cell_type": "code",
   "execution_count": 37,
   "metadata": {
    "slideshow": {
     "slide_type": "slide"
    }
   },
   "outputs": [
    {
     "name": "stdout",
     "output_type": "stream",
     "text": [
      "False\n"
     ]
    }
   ],
   "source": [
    "# int -> '<U16'\n",
    "a = np.array([1, 10000, 2**60], dtype='int64')\n",
    "print(reversible(a, '<U16'))"
   ]
  },
  {
   "cell_type": "code",
   "execution_count": 38,
   "metadata": {},
   "outputs": [
    {
     "name": "stdout",
     "output_type": "stream",
     "text": [
      "True\n"
     ]
    }
   ],
   "source": [
    "# int -> float\n",
    "a = np.array([0.0, 1, 10000, 2**62], dtype='int64')\n",
    "print(reversible(a, np.float))"
   ]
  },
  {
   "cell_type": "code",
   "execution_count": 39,
   "metadata": {},
   "outputs": [
    {
     "name": "stdout",
     "output_type": "stream",
     "text": [
      "True\n"
     ]
    }
   ],
   "source": [
    "# float64 -> float32\n",
    "\n",
    "a = np.array([0.0, 10**-10, 10**100], dtype='float64')\n",
    "print(reversible(a, np.float64))"
   ]
  },
  {
   "cell_type": "code",
   "execution_count": 40,
   "metadata": {},
   "outputs": [
    {
     "name": "stdout",
     "output_type": "stream",
     "text": [
      "True\n"
     ]
    }
   ],
   "source": [
    "# float32 -> float64\n",
    "a = np.array([0.0, 10**-10, 10**100], dtype='float32')\n",
    "print(reversible(a, np.float32))\n"
   ]
  },
  {
   "cell_type": "markdown",
   "metadata": {},
   "source": [
    "## Exercise 1.2\n",
    "\n",
    "The following function `linetofloat` takes a string which contains float numbers separated by \n",
    "spaces and returns an array of floats. Complete the definition of the function\n",
    "For example:\n",
    "\n",
    "```linetofloat(\"3.14 12.3 4.0\") -> array([3.14, 12.3, 4.0])\n",
    "```"
   ]
  },
  {
   "cell_type": "code",
   "execution_count": 41,
   "metadata": {},
   "outputs": [],
   "source": [
    "def linetofloat(text):\n",
    "    \"\"\"Return array of numbers in input string.\"\"\"\n",
    "    # 8<----------\n",
    "    return np.array(text.split(), dtype=np.float)\n"
   ]
  },
  {
   "cell_type": "code",
   "execution_count": 42,
   "metadata": {},
   "outputs": [
    {
     "name": "stdout",
     "output_type": "stream",
     "text": [
      "3.14 12.3 4.0\n",
      "[  3.14  12.3    4.  ]\n",
      "[  3.14  12.3    4.  ]\n"
     ]
    }
   ],
   "source": [
    "x = \"3.14 12.3 4.0\"\n",
    "print(x)\n",
    "x1 = x.split()\n",
    "print(np.array(x1, dtype=np.float))\n",
    "print(linetofloat(x))"
   ]
  },
  {
   "cell_type": "markdown",
   "metadata": {},
   "source": [
    "## Exercise 1.3\n",
    "\n",
    "Open and inspect the file [population.txt](population.txt). It contains some numerical data. \n",
    "Try to figure out which numpy function you can use to load this data into a numpy array. Load the data, and convert it to `float32`."
   ]
  },
  {
   "cell_type": "code",
   "execution_count": 44,
   "metadata": {},
   "outputs": [
    {
     "name": "stdout",
     "output_type": "stream",
     "text": [
      "[[  1900.  30000.   4000.  48300.]\n",
      " [  1901.  47200.   6100.  48200.]\n",
      " [  1902.  70200.   9800.  41500.]\n",
      " [  1903.  77400.  35200.  38200.]\n",
      " [  1904.  36300.  59400.  40600.]\n",
      " [  1905.  20600.  41700.  39800.]\n",
      " [  1906.  18100.  19000.  38600.]\n",
      " [  1907.  21400.  13000.  42300.]\n",
      " [  1908.  22000.   8300.  44500.]\n",
      " [  1909.  25400.   9100.  42100.]\n",
      " [  1910.  27100.   7400.  46000.]\n",
      " [  1911.  40300.   8000.  46800.]\n",
      " [  1912.  57000.  12300.  43800.]\n",
      " [  1913.  76600.  19500.  40900.]\n",
      " [  1914.  52300.  45700.  39400.]\n",
      " [  1915.  19500.  51100.  39000.]\n",
      " [  1916.  11200.  29700.  36700.]\n",
      " [  1917.   7600.  15800.  41800.]\n",
      " [  1918.  14600.   9700.  43300.]\n",
      " [  1919.  16200.  10100.  41300.]\n",
      " [  1920.  24700.   8600.  47300.]]\n"
     ]
    }
   ],
   "source": [
    "# 8<----------------\n",
    "data = np.loadtxt(\"population.txt\", dtype=np.float32)\n",
    "print(data)\n"
   ]
  },
  {
   "cell_type": "markdown",
   "metadata": {},
   "source": [
    "## Exercise 1.4\n",
    "\n",
    "Let's check the behavior of numpy numeric data with certain important mathematical operations.\n",
    "First let's make sure we are working with numpy datatypes and not with base Python ones:"
   ]
  },
  {
   "cell_type": "code",
   "execution_count": 50,
   "metadata": {},
   "outputs": [
    {
     "name": "stdout",
     "output_type": "stream",
     "text": [
      "<class 'numpy.float64'>\n",
      "float64\n"
     ]
    }
   ],
   "source": [
    "a = np.array([0, 1], dtype=np.float)\n",
    "zero = a[0]\n",
    "one = a[1]\n",
    "print(type(zero))\n",
    "print(zero.dtype)"
   ]
  },
  {
   "cell_type": "markdown",
   "metadata": {},
   "source": [
    "Check what happens in the following cases:\n",
    "\n",
    "- dividing a float by zero\n",
    "- dividing zero by zero\n",
    "- logarithm (`np.log`) of one\n",
    "- logarithm of zero\n",
    "- dividing a float by zero and then dividing the result by itself\n",
    "- dividing a float by zero and then comparing whether the results is equal to itself\n",
    "- dividing zero by zero and then comparing whether the result is equal to itself\n",
    "\n",
    "Keep in mind that the behavior of numpy floats is not always what one would naively expect!"
   ]
  },
  {
   "cell_type": "code",
   "execution_count": 59,
   "metadata": {},
   "outputs": [
    {
     "name": "stdout",
     "output_type": "stream",
     "text": [
      "inf\n"
     ]
    },
    {
     "name": "stderr",
     "output_type": "stream",
     "text": [
      "/usr/local/lib/python3.5/dist-packages/ipykernel_launcher.py:3: RuntimeWarning: divide by zero encountered in double_scalars\n",
      "  This is separate from the ipykernel package so we can avoid doing imports until\n"
     ]
    }
   ],
   "source": [
    "# 8< -----\n",
    "# dividing a float by zero\n",
    "print(one/zero)"
   ]
  },
  {
   "cell_type": "code",
   "execution_count": 60,
   "metadata": {},
   "outputs": [
    {
     "name": "stdout",
     "output_type": "stream",
     "text": [
      "nan\n"
     ]
    },
    {
     "name": "stderr",
     "output_type": "stream",
     "text": [
      "/usr/local/lib/python3.5/dist-packages/ipykernel_launcher.py:2: RuntimeWarning: invalid value encountered in double_scalars\n",
      "  \n"
     ]
    }
   ],
   "source": [
    "# dividing zero by zero\n",
    "print(zero/zero)    \n",
    "    "
   ]
  },
  {
   "cell_type": "code",
   "execution_count": 61,
   "metadata": {},
   "outputs": [
    {
     "name": "stdout",
     "output_type": "stream",
     "text": [
      "0.0\n"
     ]
    }
   ],
   "source": [
    "# logarithm of one\n",
    "print(np.log(one))"
   ]
  },
  {
   "cell_type": "code",
   "execution_count": 62,
   "metadata": {},
   "outputs": [
    {
     "name": "stdout",
     "output_type": "stream",
     "text": [
      "-inf\n"
     ]
    },
    {
     "name": "stderr",
     "output_type": "stream",
     "text": [
      "/usr/local/lib/python3.5/dist-packages/ipykernel_launcher.py:2: RuntimeWarning: divide by zero encountered in log\n",
      "  \n"
     ]
    }
   ],
   "source": [
    "# logarithm of zero\n",
    "print(np.log(zero))"
   ]
  },
  {
   "cell_type": "code",
   "execution_count": 63,
   "metadata": {},
   "outputs": [
    {
     "name": "stdout",
     "output_type": "stream",
     "text": [
      "nan\n"
     ]
    },
    {
     "name": "stderr",
     "output_type": "stream",
     "text": [
      "/usr/local/lib/python3.5/dist-packages/ipykernel_launcher.py:2: RuntimeWarning: divide by zero encountered in double_scalars\n",
      "  \n",
      "/usr/local/lib/python3.5/dist-packages/ipykernel_launcher.py:3: RuntimeWarning: invalid value encountered in double_scalars\n",
      "  This is separate from the ipykernel package so we can avoid doing imports until\n"
     ]
    }
   ],
   "source": [
    "# dividing a float by zero and then dividing the result by itself\n",
    "r = one/zero\n",
    "print(r/r)"
   ]
  },
  {
   "cell_type": "code",
   "execution_count": 64,
   "metadata": {},
   "outputs": [
    {
     "name": "stdout",
     "output_type": "stream",
     "text": [
      "True\n"
     ]
    },
    {
     "name": "stderr",
     "output_type": "stream",
     "text": [
      "/usr/local/lib/python3.5/dist-packages/ipykernel_launcher.py:2: RuntimeWarning: divide by zero encountered in double_scalars\n",
      "  \n"
     ]
    }
   ],
   "source": [
    "# dividing a float by zero and then comparing whether the results is equal to itself\n",
    "r = one/zero\n",
    "print(r==r)"
   ]
  },
  {
   "cell_type": "code",
   "execution_count": 65,
   "metadata": {},
   "outputs": [
    {
     "name": "stdout",
     "output_type": "stream",
     "text": [
      "False\n"
     ]
    },
    {
     "name": "stderr",
     "output_type": "stream",
     "text": [
      "/usr/local/lib/python3.5/dist-packages/ipykernel_launcher.py:2: RuntimeWarning: invalid value encountered in double_scalars\n",
      "  \n"
     ]
    }
   ],
   "source": [
    "# dividing zero by zero and then comparing whether the result is equal to itself\n",
    "r = zero/zero\n",
    "print(r == r)"
   ]
  },
  {
   "cell_type": "code",
   "execution_count": null,
   "metadata": {},
   "outputs": [],
   "source": []
  },
  {
   "cell_type": "code",
   "execution_count": null,
   "metadata": {},
   "outputs": [],
   "source": []
  }
 ],
 "metadata": {
  "celltoolbar": "Slideshow",
  "kernelspec": {
   "display_name": "Python 3",
   "language": "python",
   "name": "python3"
  },
  "language_info": {
   "codemirror_mode": {
    "name": "ipython",
    "version": 3
   },
   "file_extension": ".py",
   "mimetype": "text/x-python",
   "name": "python",
   "nbconvert_exporter": "python",
   "pygments_lexer": "ipython3",
   "version": "3.5.3"
  }
 },
 "nbformat": 4,
 "nbformat_minor": 1
}
