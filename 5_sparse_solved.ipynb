{
 "cells": [
  {
   "cell_type": "markdown",
   "metadata": {},
   "source": [
    "# 5. Dense and sparse matrices\n",
    "\n",
    "In this notebook in addition to NumPy we'll also be using SciPy. SciPy is a library for (mathematical) functions that are often used in scientific research."
   ]
  },
  {
   "cell_type": "markdown",
   "metadata": {},
   "source": [
    "## Scipy\n",
    "\n",
    "- optimization, \n",
    "- interpolation, \n",
    "- integration, \n",
    "- linear algebra, \n",
    "- statistics \n",
    "- **sparse datastructures**"
   ]
  },
  {
   "cell_type": "code",
   "execution_count": 1,
   "metadata": {},
   "outputs": [],
   "source": [
    "import numpy\n",
    "import scipy\n",
    "import scipy.sparse"
   ]
  },
  {
   "cell_type": "markdown",
   "metadata": {},
   "source": [
    "## Dense versus sparse matrices\n",
    "\n",
    "\n",
    "Sparseness can refer to:\n",
    "\n",
    "- content\n",
    "- representation"
   ]
  },
  {
   "cell_type": "markdown",
   "metadata": {},
   "source": [
    "## Dense and sparse content\n",
    "\n",
    "- A dense matrix is a matrix with a lot of nonzero elements.\n",
    "- A sparse matrix is the opposite and contains of a lot of zeros. \n",
    "\n",
    "The sparsity/density can be computed by dividing the number of nonzero elements by the total number of elements.\n"
   ]
  },
  {
   "cell_type": "markdown",
   "metadata": {},
   "source": [
    "## Sparse matrix representations\n",
    "\n",
    "- For matrices with sparse content we can use sparse representations.\n",
    "- A sparse representation is a represenation in which only the nonzero elements are stored, while the zeros are implicit. \n",
    "- Especially useful for large and sparse matrices."
   ]
  },
  {
   "cell_type": "markdown",
   "metadata": {},
   "source": [
    "## Advantages\n",
    "The advantage of using a sparse matrix representation are:\n",
    "\n",
    "- Memory: less memory is needed to store the matrix since the zero elements are not stored.\n",
    "- Efficiency: for some operations zero elements can be skipped"
   ]
  },
  {
   "cell_type": "markdown",
   "metadata": {},
   "source": [
    "## Examples\n",
    "\n",
    "- Counting words in texts. A document-term matrix is created, which is a matrix where for every document a vector is representing the frequencies of the words that occur in that document. A document-term matrix tends to have a large proportion of zero elements.\n",
    "\n",
    "- All diagonal matrices only have values on the diagonal and the other values are zeros, so these matrices can be better represented as a sparse matrix or alternatively as a vector of only the diagonal components.\n",
    "- Upper or lower triangular matrix. Only approximately half of the records (including the diagonal) is non-zero and the other half is zeros. In the upper triangular matrix the upper part of the matrix has non-zero values and in the lower triangular matrix the lower part of the matrix has non-zero values. "
   ]
  },
  {
   "cell_type": "markdown",
   "metadata": {},
   "source": [
    "## Ways to store a sparse matrix\n",
    "\n",
    "There are several different sparse matrix classes in SciPy:\n",
    "- Dictionary of keys (dok_matrix)\n",
    "- List of lists (lil_matrix)\n",
    "- Coordinate list (coo_matrix)\n",
    "- Diagonal storage (dia_matrix)\n",
    "- Compressed sparse column (csc_matrix)\n",
    "- Compressed sparse row (csr_matrix)\n",
    "- Block sparse row matrix (bsr_matrix)\n",
    "\n",
    "\n",
    "If you want to create a sparse matrix incrementally, it's best to use `dok` or `lil`.\n",
    "You should then convert it to `csc` or `csr` for efficient matrix operations, such as matrix multiplication or inversion.\n",
    "\n",
    "Below some different sparse matrix classes will be discussed separately.\n",
    "For more information: http://docs.scipy.org/doc/scipy/reference/sparse.html"
   ]
  },
  {
   "cell_type": "markdown",
   "metadata": {},
   "source": [
    "## Dictionary of keys (dok)\n",
    "\n",
    "- Every key in the dictionary represents the row and column of the element\n",
    "- Values in the dictionary represents the element at that particular position. \n",
    "- Elements with value 0 are not present in the dictionary, but they are assumed to be implicitly zero. \n",
    "\n"
   ]
  },
  {
   "cell_type": "code",
   "execution_count": 2,
   "metadata": {},
   "outputs": [
    {
     "name": "stdout",
     "output_type": "stream",
     "text": [
      "  (1, 2)\t-1\n",
      "  (3, 2)\t1\n",
      "  (1, 3)\t-2\n",
      "  (3, 0)\t3\n",
      "  (2, 1)\t1\n",
      "  (2, 3)\t-1\n",
      "  (1, 4)\t-3\n",
      "  (4, 2)\t2\n",
      "  (1, 0)\t1\n",
      "  (0, 3)\t-3\n",
      "  (4, 0)\t4\n",
      "  (0, 1)\t-1\n",
      "  (3, 4)\t-1\n",
      "  (3, 1)\t2\n",
      "  (2, 4)\t-2\n",
      "  (2, 0)\t2\n",
      "  (4, 3)\t1\n",
      "  (0, 4)\t-4\n",
      "  (4, 1)\t3\n",
      "  (0, 2)\t-2\n"
     ]
    }
   ],
   "source": [
    "# Create a dok matrix incrementally\n",
    "\n",
    "S = scipy.sparse.dok_matrix((5, 5), dtype=numpy.int32)\n",
    "for i in range(5):\n",
    "    for j in range(5):\n",
    "        S[i,j] = i - j\n",
    "print(S)"
   ]
  },
  {
   "cell_type": "markdown",
   "metadata": {},
   "source": [
    "### Exercise 5.1\n",
    "\n",
    "In this exercise we will learn how to build a document-term matrix.\n",
    "We'll build two functions.\n",
    "\n",
    "- Create function `word_index`  which takes a list of words, and returns a dictionary mapping each unique word to an index. The role of this function is to associate word types with columns in the document-term matrix.\n",
    "\n",
    "For example:\n",
    "```python\n",
    "word_index(\"A rose is a rose\".split())\n",
    "```\n",
    "```\n",
    "{'A': 0, 'a': 3, 'is': 2, 'rose': 1}\n",
    "```\n",
    "- Create function `word_count` which takes a list of texts (where text is a list of words), and returns two values:\n",
    "   - the dictionary mapping words to indices (as computed by the function `word_index` above).\n",
    "   - the `dok_matrix` which counts how many times each word occurs in each text. The matrix should be $M\\times N$, where $M$ is the number of texts and  $N$ is the total number word types (i.e. total number of unique words). In your implementation you will use the function `word_index` to map words to indices.\n",
    "\n",
    "Example:\n",
    "\n",
    "```python\n",
    "text = ['All human beings are born free and equal in dignity and rights'.split(),\n",
    "       'They are endowed with reason and conscience and should act towards one another in a spirit of brotherhood'.split()]\n",
    "vocab, M = word_count(text)\n",
    "print(M[0, vocab['and']])\n",
    "print(M[1, vocab['reason']])\n",
    "```       \n",
    "Output:\n",
    "```\n",
    "2.0\n",
    "1.0\n",
    "```"
   ]
  },
  {
   "cell_type": "code",
   "execution_count": 3,
   "metadata": {},
   "outputs": [
    {
     "name": "stdout",
     "output_type": "stream",
     "text": [
      "2\n",
      "1\n"
     ]
    }
   ],
   "source": [
    "# 8<------------------------------------------------\n",
    "def word_index(words):\n",
    "    D = {}\n",
    "    i = 0\n",
    "    for word in words:\n",
    "        if word not in D:\n",
    "            D[word] = i\n",
    "            i += 1\n",
    "    return D\n",
    "\n",
    "strings = \"A rose is a rose is a rose rose red rose\".split()\n",
    "#print(word_index(strings))\n",
    "    \n",
    "def word_count(texts):\n",
    "    words = []\n",
    "    for text in texts:\n",
    "        for word in text:\n",
    "            words.append(word)\n",
    "    vocab = word_index(words)\n",
    "    M = scipy.sparse.dok_matrix((len(texts), len(vocab)), dtype='int32')\n",
    "    # fill the matrix\n",
    "    for i in range(len(texts)):\n",
    "        for word in texts[i]:\n",
    "            j  = vocab[word]\n",
    "            M[i, j] += 1\n",
    "    return vocab, M\n",
    "text = ['All human beings are born free and equal in dignity and rights'.split(),\n",
    "       'They are endowed with reason and conscience and should act towards one another in a spirit of brotherhood'.split()]\n",
    "vocab, M = word_count(text)\n",
    "\n",
    "print(M[0, vocab['and']])\n",
    "print(M[1, vocab['reason']])"
   ]
  },
  {
   "cell_type": "markdown",
   "metadata": {},
   "source": [
    "## Compressed sparse row (csr)\n",
    "\n",
    "`scipy.sparse.csr_matrix(D, shape=(nrows, ncols), dtype=)`\n",
    "\n",
    "- Advantages: efficient arithmetic operations, efficient row slicing and row operations, and fast matrix vector products. \n",
    "\n",
    "- Disadvantages: slow column slicing operations (use CSC for faster column slicing), and changes to the sparsity structure are expensive (use LIL or DOK instead). \n"
   ]
  },
  {
   "cell_type": "code",
   "execution_count": 4,
   "metadata": {},
   "outputs": [
    {
     "name": "stdout",
     "output_type": "stream",
     "text": [
      "[[ 0.  0.  1.]\n",
      " [ 0.  0.  0.]\n",
      " [ 1.  0.  0.]]\n",
      "  (0, 2)\t1\n",
      "  (2, 0)\t1\n"
     ]
    }
   ],
   "source": [
    "D = numpy.round(numpy.random.random((3,3)))\n",
    "print(D)\n",
    "S = scipy.sparse.csr_matrix(D, shape=(3,3), dtype=numpy.int32)\n",
    "print(S)"
   ]
  },
  {
   "cell_type": "markdown",
   "metadata": {},
   "source": [
    "## Compressed sparse column (csc)\n",
    "\n",
    "`scipy.sparse.csc_matrix(D, shape=(nrows, ncols), dtype=)`\n",
    "\n",
    "- Advantages: efficient arithmetic operations, efficient column slicing, and fast matrix vector products (but CSR may be faster).\n",
    "\n",
    "- Disadvantages: slow row slicing operations (use CSR instead), and changes tot he sparsity structure are expensive (use LIL or DOK). \n"
   ]
  },
  {
   "cell_type": "code",
   "execution_count": 5,
   "metadata": {},
   "outputs": [
    {
     "name": "stdout",
     "output_type": "stream",
     "text": [
      "  (1, 0)\t1\n",
      "  (1, 1)\t1\n",
      "  (0, 2)\t1\n"
     ]
    }
   ],
   "source": [
    "D = numpy.round(numpy.random.random((3,3)))\n",
    "S = scipy.sparse.csc_matrix(D, shape=(3,3), dtype=numpy.int32)\n",
    "print(S)"
   ]
  },
  {
   "cell_type": "markdown",
   "metadata": {},
   "source": [
    "## Creating a sparse matrix\n",
    "\n",
    "The following three letter abbreviations of the sparse representations are as format specifiers when creating sparse matrices: `dok, lil, coo, csr, csc, dia`, and `bsr`. \n",
    "\n",
    "Examples:\n",
    "- Create the m by n identity matrix with the ones on the diagonal (k=0 is the main diagonal):  \n",
    "\n",
    "`scipy.sparse.eye(m, n, k, dtype=, format= )`\n",
    "\n",
    "- Create a m by n matrix with random elements (floats between 0 and 1) and specify the matrix density:\n",
    "\n",
    "`scipy.sparse.rand(m, n, density=, format=, dtype= )`"
   ]
  },
  {
   "cell_type": "code",
   "execution_count": 6,
   "metadata": {},
   "outputs": [
    {
     "name": "stdout",
     "output_type": "stream",
     "text": [
      "[[1 0 0 0]\n",
      " [0 1 0 0]\n",
      " [0 0 1 0]]\n"
     ]
    }
   ],
   "source": [
    "# sparse identity matrix\n",
    "E = scipy.sparse.eye(3, 4, 0, dtype=numpy.int32, format=\"dok\" )\n",
    "print(E.toarray())"
   ]
  },
  {
   "cell_type": "code",
   "execution_count": 7,
   "metadata": {},
   "outputs": [
    {
     "name": "stdout",
     "output_type": "stream",
     "text": [
      "  (1, 2)\t0.445076\n"
     ]
    }
   ],
   "source": [
    "# sparse random matrix\n",
    "R = scipy.sparse.rand(5, 5, density=0.06, format=\"coo\", dtype=numpy.float32)\n",
    "print(R)"
   ]
  },
  {
   "cell_type": "markdown",
   "metadata": {},
   "source": [
    "## Checking for sparsity\n",
    "\n",
    "- `scipy.sparse.issparse(x)`\n",
    "- `scipy.sparse.isspmatrix(x)`\n",
    "- `scipy.sparse.isspmatrix_dok(x), scipy.sparse.isspmatrix_lil(x), scipy.sparse.isspmatrix_coo(x)` etc.\n",
    "\n",
    "All these functions return `True` in the case where the matrix is sparse and of the particular type and `False` otherwise."
   ]
  },
  {
   "cell_type": "code",
   "execution_count": 8,
   "metadata": {},
   "outputs": [
    {
     "name": "stdout",
     "output_type": "stream",
     "text": [
      "Is sparse? True\n",
      "Is Dictionary of Keys format? False\n",
      "Is Coordinate lists format? True\n"
     ]
    }
   ],
   "source": [
    "R = scipy.sparse.rand(5,5,density=0.2, format=\"coo\", dtype=numpy.float32)\n",
    "print(\"Is sparse?\", scipy.sparse.issparse(R))\n",
    "print(\"Is Dictionary of Keys format?\", scipy.sparse.isspmatrix_dok(R))\n",
    "print(\"Is Coordinate lists format?\", scipy.sparse.isspmatrix_coo(R) )"
   ]
  },
  {
   "cell_type": "markdown",
   "metadata": {},
   "source": [
    "## Using the sparse representations\n",
    "\n",
    "Sparse matrices can be used in the usual mathematical operations:\n",
    "\n",
    "- addition, \n",
    "- substraction, \n",
    "- division, \n",
    "- multiplication\n",
    "\n",
    "For elementwise multiplication, use: `x.multiply(y)`\n",
    "\n",
    "http://docs.scipy.org/doc/scipy/reference/sparse.html"
   ]
  },
  {
   "cell_type": "code",
   "execution_count": 9,
   "metadata": {},
   "outputs": [
    {
     "name": "stdout",
     "output_type": "stream",
     "text": [
      "x=\n",
      "  (0, 1)\t0.882563\n",
      "  (0, 2)\t0.118507\n",
      "  (1, 0)\t0.490286\n",
      "  (1, 1)\t0.944163\n",
      "y=\n",
      "  (0, 0)\t0.130623\n",
      "  (0, 1)\t0.0538476\n",
      "  (1, 0)\t0.0802646\n",
      "  (2, 0)\t0.186728\n",
      "x+y=\n",
      "  (0, 0)\t0.130623\n",
      "  (0, 1)\t0.936411\n",
      "  (0, 2)\t0.118507\n",
      "  (1, 0)\t0.570551\n",
      "  (1, 1)\t0.944163\n",
      "  (2, 0)\t0.186728\n"
     ]
    }
   ],
   "source": [
    "# mathematical transformations with sparse matrices\n",
    "x = scipy.sparse.rand(3,3,density=0.5, format=\"csr\", dtype=numpy.float32)\n",
    "y = scipy.sparse.rand(3,3,density=0.5, format=\"csr\", dtype=numpy.float32)\n",
    "print(\"x=\")\n",
    "print(x)\n",
    "print(\"y=\")\n",
    "print(y)\n",
    "print(\"x+y=\")\n",
    "print(x+y)"
   ]
  },
  {
   "cell_type": "code",
   "execution_count": 10,
   "metadata": {},
   "outputs": [
    {
     "name": "stdout",
     "output_type": "stream",
     "text": [
      "Matrix multiplication x y =\n",
      "  (0, 0)\t0.0929672\n",
      "  (1, 1)\t0.0264007\n",
      "  (1, 0)\t0.139825\n",
      "CAUTION: x * y for sparse matrices means matrix multiplication, not elementwise\n",
      "  (0, 0)\t0.0929672\n",
      "  (1, 1)\t0.0264007\n",
      "  (1, 0)\t0.139825\n",
      "CAUTION: elementwise multiplication is done with `x.multiply(y)`:\n",
      "  (0, 1)\t0.0475239\n",
      "  (1, 0)\t0.0393526\n"
     ]
    }
   ],
   "source": [
    "print(\"Matrix multiplication x y =\")\n",
    "print(x @ y)\n",
    "\n",
    "print(\"CAUTION: x * y for sparse matrices means matrix multiplication, not elementwise\")\n",
    "print(x * y)\n",
    "print(\"CAUTION: elementwise multiplication is done with `x.multiply(y)`:\")\n",
    "print(x.multiply(y))"
   ]
  },
  {
   "cell_type": "markdown",
   "metadata": {},
   "source": [
    "## Common methods of sparse matrices\n",
    "\n",
    "- `x.mean()`: the mean of the values in the matrix\n",
    "- `x.minimum(y)`: elementwise minimum operation between matrix x and scalar y\n",
    "- `x.transpose()` or `x.T`: return the transpose of the matrix as a sparse matrix.\n",
    "- `x.toarray()`: convert sparse matrix into a regular numpy array\n",
    "- `x.sum(axis=)`: calculate the sum over the matrix or the sum over one axis.\n",
    "- `x.nonzero()`: return the indices of the non-zero elements.\n",
    "- `x.reshape(shape)`: reshape the array to another shape.\n",
    "- `x.multiply(y)`: pointwise multiplication of x with another matrix y.\n"
   ]
  },
  {
   "cell_type": "code",
   "execution_count": 11,
   "metadata": {},
   "outputs": [
    {
     "name": "stdout",
     "output_type": "stream",
     "text": [
      "[[ 0.          0.88256329  0.11850704]\n",
      " [ 0.49028617  0.94416291  0.        ]\n",
      " [ 0.          0.          0.        ]]\n"
     ]
    }
   ],
   "source": [
    "print(x.minimum(1.0).toarray())"
   ]
  },
  {
   "cell_type": "code",
   "execution_count": 12,
   "metadata": {},
   "outputs": [
    {
     "name": "stdout",
     "output_type": "stream",
     "text": [
      "Mean over the total matrix:  0.197325\n",
      "Mean for every column:  [[ 0.06939099  0.29333231  0.17233849  0.28117812  0.170384  ]]\n",
      "Total sum of the matrix: 9.86624\n"
     ]
    }
   ],
   "source": [
    "# create a random 10 by 5 sparse matrix with density 0.4 in the dictionary of keys format \n",
    "x = scipy.sparse.rand(10,5,density=0.4, format=\"dok\", dtype=numpy.float32)\n",
    "\n",
    "# calculate the mean \n",
    "print(\"Mean over the total matrix: \", x.mean())\n",
    "print(\"Mean for every column: \", x.mean(axis=0))\n",
    "\n",
    "# calculate the sum over the matrix\n",
    "print(\"Total sum of the matrix:\", x.sum())"
   ]
  },
  {
   "cell_type": "code",
   "execution_count": 13,
   "metadata": {},
   "outputs": [
    {
     "name": "stdout",
     "output_type": "stream",
     "text": [
      "Transpose:    (1, 2)\t0.984691\n",
      "  (0, 1)\t0.312098\n",
      "  (3, 2)\t0.763496\n",
      "  (1, 3)\t0.320638\n",
      "  (3, 3)\t0.186698\n",
      "  (4, 5)\t0.497746\n",
      "  (3, 1)\t0.110987\n",
      "  (2, 7)\t0.0822834\n",
      "  (1, 6)\t0.929128\n",
      "  (1, 1)\t0.894664\n",
      "  (1, 5)\t0.526821\n",
      "  (2, 6)\t0.567176\n",
      "  (2, 3)\t0.710295\n",
      "  (2, 1)\t0.489033\n",
      "  (4, 3)\t0.466433\n",
      "  (3, 7)\t0.194091\n",
      "  (4, 2)\t0.956573\n",
      "  (0, 3)\t0.293916\n",
      "  (0, 8)\t0.458673\n",
      "  (0, 2)\t0.0344961\n",
      "Multiply pointwise:    (1, 1)\t0.874292\n",
      "  (3, 4)\t0.132822\n",
      "  (5, 4)\t0.0742887\n",
      "  (6, 2)\t0.0431959\n"
     ]
    }
   ],
   "source": [
    "# create sparse matrix\n",
    "x = scipy.sparse.rand(10,5,density=0.4, format=\"dok\", dtype=numpy.float32)\n",
    "\n",
    "# transpose\n",
    "print(\"Transpose: \", x.transpose())\n",
    "\n",
    "# multiply pointwise\n",
    "y = scipy.sparse.rand(10, 5,density=0.2, format=\"dok\", dtype=numpy.float32)\n",
    "print(\"Multiply pointwise: \", x.multiply(y))\n",
    "\n"
   ]
  },
  {
   "cell_type": "markdown",
   "metadata": {},
   "source": [
    "## Important warnings\n",
    "\n",
    "### Mean subtraction\n",
    "\n",
    "When subtracting the mean from all values of a sparse matrix the sparseness of the matrix is destroyed. \n",
    "\n",
    "Subtracting the mean will lead to a matrix with almost no zero values and all the old zero values will now have the value -mean. \n",
    "\n",
    "The same warning hold for normalization or standardization of the matrix.\n",
    "\n",
    "Note that, inconsistently, the addition of a scalar to a sparse matrix does not give an error."
   ]
  },
  {
   "cell_type": "code",
   "execution_count": 14,
   "metadata": {},
   "outputs": [
    {
     "name": "stdout",
     "output_type": "stream",
     "text": [
      "mean:  0.19556\n"
     ]
    },
    {
     "ename": "NotImplementedError",
     "evalue": "subtracting a nonzero scalar from a sparse matrix is not supported",
     "output_type": "error",
     "traceback": [
      "\u001b[0;31m---------------------------------------------------------------------------\u001b[0m",
      "\u001b[0;31mNotImplementedError\u001b[0m                       Traceback (most recent call last)",
      "\u001b[0;32m<ipython-input-14-7454eab67888>\u001b[0m in \u001b[0;36m<module>\u001b[0;34m()\u001b[0m\n\u001b[1;32m      2\u001b[0m \u001b[0mx\u001b[0m \u001b[0;34m=\u001b[0m \u001b[0mscipy\u001b[0m\u001b[0;34m.\u001b[0m\u001b[0msparse\u001b[0m\u001b[0;34m.\u001b[0m\u001b[0mrand\u001b[0m\u001b[0;34m(\u001b[0m\u001b[0;36m10\u001b[0m\u001b[0;34m,\u001b[0m\u001b[0;36m5\u001b[0m\u001b[0;34m,\u001b[0m\u001b[0mdensity\u001b[0m\u001b[0;34m=\u001b[0m\u001b[0;36m0.4\u001b[0m\u001b[0;34m,\u001b[0m \u001b[0mformat\u001b[0m\u001b[0;34m=\u001b[0m\u001b[0;34m\"dok\"\u001b[0m\u001b[0;34m,\u001b[0m \u001b[0mdtype\u001b[0m\u001b[0;34m=\u001b[0m\u001b[0mnumpy\u001b[0m\u001b[0;34m.\u001b[0m\u001b[0mfloat32\u001b[0m\u001b[0;34m)\u001b[0m\u001b[0;34m\u001b[0m\u001b[0m\n\u001b[1;32m      3\u001b[0m \u001b[0mprint\u001b[0m\u001b[0;34m(\u001b[0m\u001b[0;34m\"mean: \"\u001b[0m\u001b[0;34m,\u001b[0m \u001b[0mx\u001b[0m\u001b[0;34m.\u001b[0m\u001b[0mmean\u001b[0m\u001b[0;34m(\u001b[0m\u001b[0;34m)\u001b[0m\u001b[0;34m)\u001b[0m\u001b[0;34m\u001b[0m\u001b[0m\n\u001b[0;32m----> 4\u001b[0;31m \u001b[0mprint\u001b[0m\u001b[0;34m(\u001b[0m\u001b[0mx\u001b[0m \u001b[0;34m-\u001b[0m \u001b[0mx\u001b[0m\u001b[0;34m.\u001b[0m\u001b[0mmean\u001b[0m\u001b[0;34m(\u001b[0m\u001b[0;34m)\u001b[0m\u001b[0;34m)\u001b[0m\u001b[0;34m\u001b[0m\u001b[0m\n\u001b[0m",
      "\u001b[0;32m/usr/local/lib/python3.5/dist-packages/scipy/sparse/base.py\u001b[0m in \u001b[0;36m__sub__\u001b[0;34m(self, other)\u001b[0m\n\u001b[1;32m    387\u001b[0m             \u001b[0;32mif\u001b[0m \u001b[0mother\u001b[0m \u001b[0;34m==\u001b[0m \u001b[0;36m0\u001b[0m\u001b[0;34m:\u001b[0m\u001b[0;34m\u001b[0m\u001b[0m\n\u001b[1;32m    388\u001b[0m                 \u001b[0;32mreturn\u001b[0m \u001b[0mself\u001b[0m\u001b[0;34m.\u001b[0m\u001b[0mcopy\u001b[0m\u001b[0;34m(\u001b[0m\u001b[0;34m)\u001b[0m\u001b[0;34m\u001b[0m\u001b[0m\n\u001b[0;32m--> 389\u001b[0;31m             raise NotImplementedError('subtracting a nonzero scalar from a '\n\u001b[0m\u001b[1;32m    390\u001b[0m                                       'sparse matrix is not supported')\n\u001b[1;32m    391\u001b[0m         \u001b[0;32melif\u001b[0m \u001b[0misspmatrix\u001b[0m\u001b[0;34m(\u001b[0m\u001b[0mother\u001b[0m\u001b[0;34m)\u001b[0m\u001b[0;34m:\u001b[0m\u001b[0;34m\u001b[0m\u001b[0m\n",
      "\u001b[0;31mNotImplementedError\u001b[0m: subtracting a nonzero scalar from a sparse matrix is not supported"
     ]
    }
   ],
   "source": [
    "# the result of mean substraction of a sparse matrix is a dense matrix\n",
    "x = scipy.sparse.rand(10,5,density=0.4, format=\"dok\", dtype=numpy.float32)\n",
    "print(\"mean: \", x.mean())\n",
    "print(x - x.mean())\n"
   ]
  },
  {
   "cell_type": "markdown",
   "metadata": {
    "collapsed": true
   },
   "source": [
    "### Dot product between sparse matrices\n",
    "When using sparse matrices you should not use the `numpy.dot` function, as this function does not understand sparse matrices.\n",
    "\n",
    "Use `x.dot(y)` or `x @ y` instead.\n",
    "\n",
    "Reference: http://docs.scipy.org/doc/scipy/reference/sparse.html#matrix-vector-product\n"
   ]
  },
  {
   "cell_type": "code",
   "execution_count": 15,
   "metadata": {},
   "outputs": [
    {
     "name": "stdout",
     "output_type": "stream",
     "text": [
      "[[1 2 0]\n",
      " [0 0 3]\n",
      " [4 0 5]]\n",
      "[5 6 0]\n",
      "[17  0 20]\n"
     ]
    }
   ],
   "source": [
    "# dot product \n",
    "x = scipy.sparse.dok_matrix([[1, 2, 0], [0, 0, 3], [4, 0, 5]])\n",
    "y = numpy.array([5, 6, 0])\n",
    "print(x.toarray())\n",
    "print(y)\n",
    "\n",
    "print(x.dot(y))"
   ]
  },
  {
   "cell_type": "code",
   "execution_count": 16,
   "metadata": {},
   "outputs": [
    {
     "name": "stdout",
     "output_type": "stream",
     "text": [
      "[17  0 20]\n"
     ]
    }
   ],
   "source": [
    "print(x @ y)"
   ]
  },
  {
   "cell_type": "code",
   "execution_count": 17,
   "metadata": {},
   "outputs": [
    {
     "name": "stdout",
     "output_type": "stream",
     "text": [
      "[ <3x3 sparse matrix of type '<class 'numpy.int64'>'\n",
      "\twith 5 stored elements in Dictionary Of Keys format>\n",
      " <3x3 sparse matrix of type '<class 'numpy.int64'>'\n",
      "\twith 5 stored elements in Dictionary Of Keys format>\n",
      " <3x3 sparse matrix of type '<class 'numpy.int64'>'\n",
      "\twith 5 stored elements in Dictionary Of Keys format>]\n"
     ]
    }
   ],
   "source": [
    "# DO NOT DO THIS\n",
    "print(numpy.dot(x, y))"
   ]
  },
  {
   "cell_type": "markdown",
   "metadata": {},
   "source": [
    "## Missing operations\n",
    "\n",
    "Certain operations are not available for sparse matrices: \n",
    "- either because they are not compatible with sparsity, \n",
    "- or they simply haven't been implemented. \n",
    "\n",
    "So you may find that you occasionaly need to convert a sparse matrix to a numpy array (using `.toarray()`) to perform an operation. \n",
    "\n",
    "Be careful when doing this with very large matrices: they will most likely not fit in memory, and crash your Python session.\n",
    "\n",
    "Some commonly used missing functions include:\n",
    "\n",
    "- `.argmax`\n",
    "- `.argmin`\n",
    "- `.argsort`\n",
    "\n",
    "### Exercise 5.2\n",
    "\n",
    "Given a word index dictionary and a document-term matrix returned by `word_count`, find the most frequent word for each row."
   ]
  },
  {
   "cell_type": "code",
   "execution_count": 18,
   "metadata": {},
   "outputs": [
    {
     "name": "stdout",
     "output_type": "stream",
     "text": [
      "[[3 2 1 0 0 0 0]\n",
      " [0 0 1 2 1 0 0]\n",
      " [0 0 0 0 2 1 1]]\n",
      "[(0, 'a'), (1, 'foo'), (2, 'bar')]\n"
     ]
    }
   ],
   "source": [
    "# 8<--------------------------------------------\n",
    "documents = ['a a a b b c'.split(),\n",
    "            'c foo foo bar'.split(),\n",
    "             'bar bar one two'.split()]\n",
    "vocab, M = word_count(documents)\n",
    "print(M.toarray())\n",
    "\n",
    "def most_frequent(V, M):\n",
    "    # Find column indices of most common words\n",
    "    f = M.toarray().argmax(axis=1)\n",
    "    # create mapping from column indices to words\n",
    "    V_inv = dict((v, k) for k,v in V.items())\n",
    "    # for each document return the commonest word    \n",
    "    return [ (docid, V_inv[colid]) for docid, colid in enumerate(f) ]\n",
    "\n",
    "print(most_frequent(vocab, M))"
   ]
  },
  {
   "cell_type": "code",
   "execution_count": 19,
   "metadata": {},
   "outputs": [
    {
     "name": "stdout",
     "output_type": "stream",
     "text": [
      "[(0, 'a'), (1, 'b'), (2, 'c')]\n"
     ]
    }
   ],
   "source": [
    "print(list(enumerate(\"a b c\".split())))"
   ]
  },
  {
   "cell_type": "markdown",
   "metadata": {},
   "source": [
    "### Exercise 5.3\n",
    "\n",
    "Function `f` takes a document-term matrix, and returns another matrix. Analyze the code in `f` and try to figure out what this function is doing and how to interpret the result it returns.\n",
    "```python\n",
    "def f(D):\n",
    "    M = D.minimum(1.0)\n",
    "    return M.dot(M.T)\n",
    "```"
   ]
  },
  {
   "cell_type": "code",
   "execution_count": 20,
   "metadata": {},
   "outputs": [],
   "source": [
    "def f(D):\n",
    "    \"Works on sparse matrices\"\n",
    "    M = D.minimum(1.0)\n",
    "    return M.dot(M.T)\n",
    "\n",
    "def g(D):\n",
    "    \"Works on arrays\"\n",
    "    M = numpy.minimum(D, 1.0)\n",
    "    return M.dot(M.T)\n",
    "\n",
    "M = M[:3,:5]\n",
    " "
   ]
  },
  {
   "cell_type": "code",
   "execution_count": 21,
   "metadata": {},
   "outputs": [
    {
     "name": "stdout",
     "output_type": "stream",
     "text": [
      "[[ 3.  1.  0.]\n",
      " [ 1.  3.  1.]\n",
      " [ 0.  1.  1.]]\n",
      "[[ 3.  1.  0.]\n",
      " [ 1.  3.  1.]\n",
      " [ 0.  1.  1.]]\n"
     ]
    }
   ],
   "source": [
    "print(f(M).toarray())\n",
    "print(g(M.toarray()))"
   ]
  },
  {
   "cell_type": "markdown",
   "metadata": {},
   "source": [
    "### Exercise 5.4\n",
    "\n",
    "- Create a list of texts by reading the first 1000 lines from [coco_val.txt](coco_val.txt). Create matrix A with the document-term matrix from these 1000 sentences. Create another matrix B by converting the matrix A from `dok` format to `csr` format. Use the ipython command `%timeit` to compare whether it's faster to apply function `f` (see above) to matrix A or B.\n",
    "- Create matrix C by converting A to a regular numpy array. Write function `g` which is like `f`, but works on regular numpy array arrays. Use `%timeit` to see how fast g is when applied to matrix C."
   ]
  },
  {
   "cell_type": "code",
   "execution_count": 22,
   "metadata": {},
   "outputs": [],
   "source": [
    "# 8<---------------------------\n",
    "lines = [ line.split() for line in open(\"coco_val.txt\")][:1000]"
   ]
  },
  {
   "cell_type": "code",
   "execution_count": 23,
   "metadata": {},
   "outputs": [
    {
     "name": "stdout",
     "output_type": "stream",
     "text": [
      "(1000, 1404)\n",
      "(1000, 1404)\n",
      "(1000, 1404)\n"
     ]
    }
   ],
   "source": [
    "# 8<----------------------------\n",
    "vocab, A = word_count(lines)\n",
    "B = A.tocsr()\n",
    "C = A.toarray()\n",
    "print(A.shape)\n",
    "print(B.shape)\n",
    "print(C.shape)"
   ]
  },
  {
   "cell_type": "code",
   "execution_count": 24,
   "metadata": {},
   "outputs": [
    {
     "name": "stdout",
     "output_type": "stream",
     "text": [
      "30.6 ms ± 321 µs per loop (mean ± std. dev. of 7 runs, 10 loops each)\n"
     ]
    }
   ],
   "source": [
    "# 8<----------------------------\n",
    "%timeit f(A)"
   ]
  },
  {
   "cell_type": "code",
   "execution_count": 25,
   "metadata": {},
   "outputs": [
    {
     "name": "stdout",
     "output_type": "stream",
     "text": [
      "25.5 ms ± 2.95 ms per loop (mean ± std. dev. of 7 runs, 10 loops each)\n"
     ]
    }
   ],
   "source": [
    "# 8<----------------------------\n",
    "%timeit f(B)"
   ]
  },
  {
   "cell_type": "code",
   "execution_count": 26,
   "metadata": {},
   "outputs": [
    {
     "name": "stdout",
     "output_type": "stream",
     "text": [
      "356 ms ± 114 ms per loop (mean ± std. dev. of 7 runs, 1 loop each)\n"
     ]
    }
   ],
   "source": [
    "# 8<----------------------------\n",
    "%timeit g(C)"
   ]
  },
  {
   "cell_type": "markdown",
   "metadata": {
    "collapsed": true
   },
   "source": [
    "### Exercise 5.5\n",
    "\n",
    "There are a number of ways of measuring similarity between documents. For this exercise we'll try to use the number of unique words the documents have in common (word overlap).\n",
    "\n",
    "\n",
    "1. Define function `similarity` which takes a document-term matrix, and returns the matrix where the value in the row $i$ and column $j$ is the word overlap between the $i$th and $j$th document.\n",
    "3. Calculate the overlap similarity matrix for sentences in [coco_val.txt](coco_val.txt). For the first 20 sentences, display the 3 most similar sentences according to this matrix.\n",
    "4. Word overlap is a very simplistic similarity measure. Suggest, and possibly implement, a better way of measuring similarity between documents based on a document-term matrix."
   ]
  },
  {
   "cell_type": "code",
   "execution_count": 27,
   "metadata": {},
   "outputs": [],
   "source": [
    "# 8<----------------------------\n",
    "def similarity(D):\n",
    "    \"Computes word overlap between pairs of documents in document-term matrix D\"\n",
    "    M = D.minimum(1.0)\n",
    "    return M @ M.T"
   ]
  },
  {
   "cell_type": "code",
   "execution_count": 28,
   "metadata": {},
   "outputs": [],
   "source": [
    "# 8<----------------------------\n",
    "lines = [ line.split() for line in open(\"coco_val.txt\")][:5000]"
   ]
  },
  {
   "cell_type": "code",
   "execution_count": 29,
   "metadata": {},
   "outputs": [],
   "source": [
    "# 8<----------------------------\n",
    "vocab, M = word_count(lines)"
   ]
  },
  {
   "cell_type": "code",
   "execution_count": 30,
   "metadata": {},
   "outputs": [],
   "source": [
    "# 8<----------------------------\n",
    "S = similarity(M)"
   ]
  },
  {
   "cell_type": "code",
   "execution_count": 31,
   "metadata": {},
   "outputs": [
    {
     "name": "stdout",
     "output_type": "stream",
     "text": [
      "a child holding a flowered umbrella and petting a yak\n",
      "4.0 a small child holding a kite and eating a treat\n",
      "4.0 a woman walking with a man and holding an umbrella looks off to the side\n",
      "4.0 an adult standing holding surfboard and a child kneeling by water\n",
      "\n",
      "a young man holding an umbrella next to a herd of cattle\n",
      "6.0 a woman holding an umbrella standing next to a black wall\n",
      "7.0 the silhouette of a man under an umbrella sitting next to the water\n",
      "7.0 a black and white photo of a man sitting by the water holding an umbrella to give him shade\n",
      "\n",
      "a young boy barefoot holding an umbrella touching the horn of a cow\n",
      "6.0 a black and white photo of a man sitting by the water holding an umbrella to give him shade\n",
      "6.0 a young man holding an umbrella next to a herd of cattle\n",
      "10.0 a young boy with an umbrella who is touching the horn of a cow\n",
      "\n",
      "a young boy with an umbrella who is touching the horn of a cow\n",
      "6.0 a young man is skateboarding in the middle of the street with cars passing in both directions\n",
      "6.0 a young boy is standing on the front porch with a tennis racket\n",
      "10.0 a young boy barefoot holding an umbrella touching the horn of a cow\n",
      "\n",
      "a boy holding an umbrella while standing next to livestock\n",
      "6.0 a woman is standing beside an older gentleman while holding an umbrella\n",
      "6.0 a young man holding an umbrella next to a herd of cattle\n",
      "7.0 a woman holding an umbrella standing next to a black wall\n",
      "\n",
      "a narrow kitchen filled with appliances and cooking utensils\n",
      "5.0 dirty kitchen utensils and a stove together with fruit\n",
      "5.0 a clean empty kitchen with very new and modern appliances\n",
      "6.0 a kitchen filled with appliances and track lighting\n",
      "\n",
      "a galley kitchen with cabinets and appliances on both sides\n",
      "5.0 a kitchen with white cabinets and wooden trim\n",
      "5.0 a kitchen with a sink stove and wooden cabinets\n",
      "5.0 kitchen with wooden cabinets and a metal sink\n",
      "\n",
      "a hallway leading into a white kitchen with appliances\n",
      "4.0 a clean empty kitchen with very new and modern appliances\n",
      "4.0 a very clean kitchen with multiple appliances and an island\n",
      "4.0 a kitchen filled with appliances and track lighting\n",
      "\n",
      "doorway view of a kitchen with a sink stove refrigerator and pantry\n",
      "6.0 a kitchen with a microwave stove oven and refrigerator\n",
      "6.0 a kitchen with a microwave over the stove and a window by the sink\n",
      "6.0 a kitchen with a stove a refrigerator and some cupbords\n",
      "\n",
      "the pantry door of the small kitchen is closed\n",
      "4.0 appliances in the middle of a kitchen while it is being painted\n",
      "4.0 a partial view of a kitchen primarily the refrigerator is showing\n",
      "4.0 a small truck labeled horses is driving down the road in the middle of the afternoon\n",
      "\n",
      "a little girl holding a kitten next to a blue fence\n",
      "5.0 a little girl on top of horse next to a cowboy\n",
      "5.0 a little girl holds something in her hand next to a christmas stocking\n",
      "5.0 a little girl riding a horse next to another girl\n",
      "\n",
      "girl in a tank top holding a kitten in her back yard\n",
      "4.0 a girl with a toothbrush and toothpaste in her mouth\n",
      "4.0 a young girl on her bed in her room\n",
      "4.0 a beautiful woman holding a cheese pizza in her hands\n",
      "\n",
      "a young girl is holding a small cat\n",
      "4.0 the small boy is holding a hair brush\n",
      "4.0 a small child is holding a stuffed bear\n",
      "5.0 girl with a yellow shirt holding a small cat\n",
      "\n",
      "girl with a yellow shirt holding a small cat\n",
      "4.0 a woman with a tennis player holding a racket with a cat in the air\n",
      "4.0 a white tray with a vase holding flowers over a cat\n",
      "5.0 a young girl is holding a small cat\n",
      "\n",
      "a girl smiles as she holds a kitty cat\n",
      "4.0 a girl holds her black cat in her arms and gives it a hug\n",
      "4.0 a woman holding up a banana to her nose as she holds her lips wide open\n",
      "4.0 a man with glasses smiles as he holds a cell phone\n",
      "\n",
      "a toilet sitting in a bathroom next to a sink\n",
      "7.0 a white toilet sitting next to a window in a bathroom\n",
      "7.0 a bathroom sink sitting under a mirror sitting next to a toilet\n",
      "8.0 a toilet sitting in a bathroom next to a sink\n",
      "\n",
      "a toilet in a bathroom with green faded paint\n",
      "5.0 a small little bathroom with a toilet in it\n",
      "5.0 a double sink vanity with mirror shower stall and toilet in a bathroom\n",
      "5.0 two toilets next to each other in a bathroom with green walls\n",
      "\n",
      "a bathroom with a gouged wall and wall socket with no panel\n",
      "4.0 a single bathroom with toilet shower and window\n",
      "5.0 a bathroom vanity sink with a large mirror and hairdryer on the wall\n",
      "5.0 a bathroom with a toilet and a shower with no stall\n",
      "\n",
      "the toilet is near the door in the bathroom\n",
      "4.0 a small bathroom with the door half open leading to a toilet\n",
      "5.0 the black and white toilet is opened in the narrow bathroom\n",
      "5.0 a cat is perched on the top of a toilet seat in the bathroom\n",
      "\n",
      "the bathroom wall needs to be resurfaced and painted\n",
      "4.0 the cake is prepared and ready to be eaten\n",
      "4.0 the house appears to be clean and beautifully decorated\n",
      "5.0 the bathroom in the cabin needs to be remodeled\n",
      "\n"
     ]
    }
   ],
   "source": [
    "# 8<----------------------------\n",
    "for i in range(20):\n",
    "    print(\" \".join(lines[i]))\n",
    "    # convert row to array\n",
    "    row = S[i, :].toarray()[0, :]\n",
    "    # look for 3 highest values\n",
    "    for j in row.argsort()[-4:-1]:\n",
    "        print(S[i, j], \" \".join(lines[j]))\n",
    "    print()"
   ]
  },
  {
   "cell_type": "code",
   "execution_count": null,
   "metadata": {},
   "outputs": [],
   "source": []
  },
  {
   "cell_type": "code",
   "execution_count": null,
   "metadata": {},
   "outputs": [],
   "source": []
  }
 ],
 "metadata": {
  "celltoolbar": "Slideshow",
  "kernelspec": {
   "display_name": "Python 3",
   "language": "python",
   "name": "python3"
  },
  "language_info": {
   "codemirror_mode": {
    "name": "ipython",
    "version": 3
   },
   "file_extension": ".py",
   "mimetype": "text/x-python",
   "name": "python",
   "nbconvert_exporter": "python",
   "pygments_lexer": "ipython3",
   "version": "3.5.3"
  }
 },
 "nbformat": 4,
 "nbformat_minor": 1
}
