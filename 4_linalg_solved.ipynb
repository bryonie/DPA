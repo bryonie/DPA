{
 "cells": [
  {
   "cell_type": "markdown",
   "metadata": {},
   "source": [
    "# 4. Linear algebra operations"
   ]
  },
  {
   "cell_type": "code",
   "execution_count": 1,
   "metadata": {},
   "outputs": [],
   "source": [
    "import numpy as np"
   ]
  },
  {
   "cell_type": "markdown",
   "metadata": {},
   "source": [
    "## Linear Algebra\n",
    "\n",
    "- A branch of mathematics dealing with vector spaces. \n",
    "- Basic operations: \n",
    "  - transpose, \n",
    "  - dot products, \n",
    "  - matrix multiplication\n",
    "  \n",
    "  "
   ]
  },
  {
   "cell_type": "markdown",
   "metadata": {},
   "source": [
    "## LA and data science \n",
    "- Useful for manipulating numeric datasets. \n",
    "- Avoid writing explicit loops, making code:\n",
    "  - more readable (closes to mathematical formulation)\n",
    "  - more concise\n",
    "  - faster to execute."
   ]
  },
  {
   "cell_type": "markdown",
   "metadata": {},
   "source": [
    "## Linear regression with LA\n",
    "\n",
    "- Iimplement linear regression using `numpy` linear algebra operations. \n",
    "- Start with the functional form of the regression: \n",
    "   - how the predicted target values depend on the regression coefficients the of features (aka predictors or regressors). "
   ]
  },
  {
   "cell_type": "markdown",
   "metadata": {},
   "source": [
    "## Linear regression formula\n",
    "\n",
    "Given: \n",
    "\n",
    "- coefficients $\\mathrm{\\beta}$ \n",
    "- matrix with the predictors $\\mathrm{X}$ \n",
    "\n",
    "We can calculate predicted targets $\\mathrm{\\hat{y}}$ according to:\n",
    "$$\n",
    "\\mathrm{\\hat{y}} = \\beta_0 + \\mathrm{X}\\mathrm{\\beta}\n",
    "$$"
   ]
  },
  {
   "cell_type": "markdown",
   "metadata": {},
   "source": [
    "## Constant feature\n",
    "\n",
    "Add an extra column of $1$s to the matrix $\\mathrm{X}$.  \n",
    "We can now omit intercept $\\beta_0$ and get equivalent predictions, as $\\beta_0$ is absorbed into vector of coefficients $\\beta$\n",
    "\n",
    "$$\n",
    "\\mathrm{\\hat{y}} = \\mathrm{X}\\mathrm{\\beta}\n",
    "$$"
   ]
  },
  {
   "cell_type": "markdown",
   "metadata": {},
   "source": [
    "## Matrix multiplication\n",
    "\n",
    "- The  operation $X\\beta$ is **matrix multiplication**. \n",
    "- Here, first matrix is $N\\times M$ where N is the number datapoints (rows) and $M$ the number of predictors (including the extra row of ones). \n",
    "- The second matrix is $M\\times 1$, so it is a column vector."
   ]
  },
  {
   "cell_type": "markdown",
   "metadata": {},
   "source": [
    "## Multiplying a matrix by a column vector\n",
    "\n",
    "- For each row of X, we multiply it with $\\beta$ elementwise and the  sum the resulting vector values is our predicted $\\hat{y}$ for each row. This can be written explicitly as:\n",
    "\n",
    "$$\n",
    "\\mathrm{\\hat{y}_i} = \\sum_{m=1}^M X_{i,m} \\beta_m\n",
    "$$\n",
    "\n",
    "- The matrix multiplication version is much more concise. \n",
    "- The same is true in numpy code: it's more concise to implement this using the matrix multiplication function `numpy.dot` than write a bunch of loops."
   ]
  },
  {
   "cell_type": "markdown",
   "metadata": {},
   "source": [
    "## Matrix multiplication / dot product\n",
    "\n",
    "- In `numpy` the concept of dot product (aka scalar product) is treated as\n",
    "a special case of matrix multiplication. \n",
    "- The function `numpy.dot` works for: \n",
    "  - simple dot product between vectors, \n",
    "  - multiplying a matrix by a vector, \n",
    "  - multiplying two matrices."
   ]
  },
  {
   "cell_type": "markdown",
   "metadata": {},
   "source": [
    "## Dot product\n",
    "\n",
    "- The definition of dot product between two vectors $u$ and $v$ is:\n",
    "\n",
    "$$\\langle u, v\\rangle = \\sum_{i=1}^N u_i v_i$$\n",
    "\n",
    "- Other notations that you will come across for this operation are:\n",
    "  - $u \\cdot v$, \n",
    "  - $u^T v$.\n",
    "\n",
    "\n",
    "In `numpy` we write\n",
    "\n",
    "```python\n",
    "np.dot(u, v)\n",
    "```\n",
    "or equivalent:\n",
    "\n",
    "```python\n",
    "u.dot(v)\n",
    "```"
   ]
  },
  {
   "cell_type": "markdown",
   "metadata": {},
   "source": [
    "### Exercise 4.1\n",
    "\n",
    "Create two vectors of random values between -10 and 10 of size 100. Compute:\n",
    "- elementwise product between them\n",
    "- dot (scalar) product between them.\n"
   ]
  },
  {
   "cell_type": "code",
   "execution_count": 2,
   "metadata": {},
   "outputs": [],
   "source": [
    "np.random.seed(666)\n",
    "\n",
    "# 8<------------------------------\n",
    "u = np.random.uniform(-10, 10, 100)\n",
    "v = np.random.uniform(-10, 10, 100)\n"
   ]
  },
  {
   "cell_type": "code",
   "execution_count": 3,
   "metadata": {},
   "outputs": [
    {
     "name": "stdout",
     "output_type": "stream",
     "text": [
      "-252.017874219\n",
      "\n",
      "-252.017874219\n"
     ]
    }
   ],
   "source": [
    "print((u * v).sum())\n",
    "print()\n",
    "print(u.dot(v))"
   ]
  },
  {
   "cell_type": "code",
   "execution_count": 4,
   "metadata": {},
   "outputs": [
    {
     "name": "stdout",
     "output_type": "stream",
     "text": [
      "-252.017874219\n"
     ]
    }
   ],
   "source": [
    "# In newer versions of Python we can use the operator symbol `@` for the method `dot`:\n",
    "print(u @ v)"
   ]
  },
  {
   "cell_type": "markdown",
   "metadata": {},
   "source": [
    "## Matrix multiplication in the general case\n",
    "\n",
    "- Number of columns in the first one needs to be equal to the number of rows in the second one. \n",
    "- For matrices $A_{m\\times n}$ and $B_{n \\times p}$, the resulting matrix will be $C_{m \\times p}$. "
   ]
  },
  {
   "cell_type": "markdown",
   "metadata": {},
   "source": [
    "## Matrix multiplication: definition\n",
    "\n",
    "$$\n",
    "C_{i,j} = \\sum_{k=1}^n A_{i,k}B_{k,j}\n",
    "$$\n",
    "![](https://upload.wikimedia.org/wikipedia/commons/thumb/e/eb/Matrix_multiplication_diagram_2.svg/470px-Matrix_multiplication_diagram_2.svg.png)\n",
    "\n",
    "In `numpy` we simply use `dot`:\n",
    "\n",
    "```python\n",
    "np.dot(A, B)\n",
    "```\n",
    "or\n",
    "\n",
    "```python\n",
    "A.dot(B)\n",
    "```\n",
    "\n",
    "or we can use the symbol `@` which makes our code even more concise and readable:\n",
    "\n",
    "```python\n",
    "A @ B\n",
    "```"
   ]
  },
  {
   "cell_type": "markdown",
   "metadata": {},
   "source": [
    "### Exercise 4.2\n",
    "\n",
    "- Create a random matrix $A_{3\\times 4}$ and another random matrix $B_{4 \\times 2}$. Multiply AB.  "
   ]
  },
  {
   "cell_type": "code",
   "execution_count": 5,
   "metadata": {},
   "outputs": [
    {
     "name": "stdout",
     "output_type": "stream",
     "text": [
      "[[ 1.57637151 -1.64474143]\n",
      " [-0.68646281  0.82852164]\n",
      " [ 6.59310042 -2.45441846]]\n",
      "[[ 1.57637151 -1.64474143]\n",
      " [-0.68646281  0.82852164]\n",
      " [ 6.59310042 -2.45441846]]\n"
     ]
    }
   ],
   "source": [
    "# 8<---------------------------------\n",
    "A = np.random.normal(0, 1, (3, 4))\n",
    "B = np.random.normal(0, 1, (4, 2))\n",
    "print(A.dot(B))\n",
    "print(A @ B)"
   ]
  },
  {
   "cell_type": "markdown",
   "metadata": {},
   "source": [
    "- Create a random matrix $C_{3\\times 3}$ and $D_{3\\times3}$. Multiply CD. Multiply DC. Is matrix multiplication [commutative](https://en.wikipedia.org/wiki/Commutative_property)?"
   ]
  },
  {
   "cell_type": "code",
   "execution_count": 6,
   "metadata": {},
   "outputs": [
    {
     "name": "stdout",
     "output_type": "stream",
     "text": [
      "[[-1.95011228 -1.81030485 -0.45069052]\n",
      " [-0.26567549 -0.68307508 -0.64852351]\n",
      " [-1.23565255  0.28517766  2.00907736]]\n",
      "[[-1.07179132  1.89857574 -1.27585634]\n",
      " [-0.41095456  2.12010645 -0.60202606]\n",
      " [-1.37317152  0.30924139 -1.67242512]]\n"
     ]
    }
   ],
   "source": [
    "# 8<------------------------------------\n",
    "C = np.random.normal(0, 1, (3, 3))\n",
    "D = np.random.normal(0, 1, (3, 3))\n",
    "print(C @ D)\n",
    "print(D @ C)"
   ]
  },
  {
   "cell_type": "markdown",
   "metadata": {},
   "source": [
    "- Create a identity matrix $I_{3\\times 3}$.  Multiply IC, CI, DI, ID. What do you notice?"
   ]
  },
  {
   "cell_type": "code",
   "execution_count": 7,
   "metadata": {},
   "outputs": [
    {
     "name": "stdout",
     "output_type": "stream",
     "text": [
      "[[ 1.  0.  0.]\n",
      " [ 0.  1.  0.]\n",
      " [ 0.  0.  1.]]\n",
      "[[ 0.78590233 -0.37198983  1.01149733]\n",
      " [ 0.28176446 -0.48816932  0.2558341 ]\n",
      " [ 0.07928801  1.31558859  0.077067  ]]\n",
      "[[ 0.78590233 -0.37198983  1.01149733]\n",
      " [ 0.28176446 -0.48816932  0.2558341 ]\n",
      " [ 0.07928801  1.31558859  0.077067  ]]\n",
      "[[ 0.78590233 -0.37198983  1.01149733]\n",
      " [ 0.28176446 -0.48816932  0.2558341 ]\n",
      " [ 0.07928801  1.31558859  0.077067  ]]\n"
     ]
    }
   ],
   "source": [
    "# 8<------------------------\n",
    "I = np.eye(3)\n",
    "print(I)\n",
    "print(C)\n",
    "print(I @ C)\n",
    "print(C @ I)"
   ]
  },
  {
   "cell_type": "markdown",
   "metadata": {},
   "source": [
    "- What will be the result of multiplying a matrix $Z_{m\\times n}$ by a matrix $O_{n \\times p}$ whose all entries are zero? Check your answer using some examples in `numpy`."
   ]
  },
  {
   "cell_type": "code",
   "execution_count": 8,
   "metadata": {},
   "outputs": [
    {
     "name": "stdout",
     "output_type": "stream",
     "text": [
      "[[ 0.  0.  0.]\n",
      " [ 0.  0.  0.]\n",
      " [ 0.  0.  0.]\n",
      " [ 0.  0.  0.]]\n",
      "[[ 0.  0.  0.]\n",
      " [ 0.  0.  0.]\n",
      " [ 0.  0.  0.]]\n"
     ]
    }
   ],
   "source": [
    "# 8<---------------------\n",
    "O = np.zeros((4, 3))\n",
    "print(O)\n",
    "print(A @ O)"
   ]
  },
  {
   "cell_type": "markdown",
   "metadata": {
    "collapsed": true
   },
   "source": [
    "### Exercise 4.3\n",
    "\n",
    "- Create a random matrix $A_{3\\times 4}$ and another random matrix $B_{2 \\times 4}$. Can you transform one of them so that they can be multiplied? Try this in `numpy`."
   ]
  },
  {
   "cell_type": "code",
   "execution_count": 9,
   "metadata": {},
   "outputs": [
    {
     "name": "stdout",
     "output_type": "stream",
     "text": [
      "[[-0.63382655 -0.72932328]\n",
      " [-1.10639798  2.54024855]\n",
      " [-0.03414218 -0.41075148]]\n",
      "[[-0.63382655 -0.72932328]\n",
      " [-1.10639798  2.54024855]\n",
      " [-0.03414218 -0.41075148]]\n"
     ]
    }
   ],
   "source": [
    "# 8<----------------------------------\n",
    "A = np.random.uniform(-1,1,(3,4))\n",
    "B = np.random.uniform(-2,2,(2,4))\n",
    "print(A.dot(B.T))\n",
    "print(A @ B.T)"
   ]
  },
  {
   "cell_type": "markdown",
   "metadata": {},
   "source": [
    "## Transpose\n",
    "\n",
    "We have already encountered matrix transpose. \n",
    "\n",
    "- Math notation for transpose of matrix $A$ is $A^T$. \n",
    "- Transposing a matrix means making the rows into columns and columns into rows. \n",
    "- If $A$ is $m \\times n$ then $A^T$ is $n \\times m$. \n",
    "- The values are:\n",
    "\n",
    "$$A^T_{i,j} = A_{j,i}$$\n",
    "\n",
    "In `numpy` the transpose is simply written `A.T`. There is also the function `np.transpose` which does the same."
   ]
  },
  {
   "cell_type": "markdown",
   "metadata": {},
   "source": [
    "### Exercise 4.4\n",
    "\n",
    "- Create a random $4 \\times 5$ matrix and verify that the above equality holds for it.\n",
    "- What would be the outcome of $(A^T)^T$? Check this in `numpy`."
   ]
  },
  {
   "cell_type": "code",
   "execution_count": 10,
   "metadata": {},
   "outputs": [
    {
     "name": "stdout",
     "output_type": "stream",
     "text": [
      "True\n",
      "True\n",
      "True\n",
      "True\n",
      "True\n",
      "True\n",
      "True\n",
      "True\n",
      "True\n",
      "True\n",
      "True\n",
      "True\n",
      "True\n",
      "True\n",
      "True\n",
      "True\n",
      "True\n",
      "True\n",
      "True\n",
      "True\n"
     ]
    }
   ],
   "source": [
    "# 8<---------------------------------\n",
    "A = np.random.normal(1, 0, (4,5))\n",
    "for i in range(4):\n",
    "    for j in range(5):\n",
    "        print(A[i,j] == A.T[j,i])"
   ]
  },
  {
   "cell_type": "code",
   "execution_count": 11,
   "metadata": {},
   "outputs": [
    {
     "name": "stdout",
     "output_type": "stream",
     "text": [
      "True\n"
     ]
    }
   ],
   "source": [
    "# 8<--------------------------------\n",
    "print(np.allclose(A.T.T, A))"
   ]
  },
  {
   "cell_type": "markdown",
   "metadata": {},
   "source": [
    "## Inverse\n",
    "\n",
    "- For scalar numbers the multiplicative inverse (aka reciprocal) of number $n$ is $\\frac{1}{n}$, \n",
    "- Also written as $n^{-1}$. \n",
    "- This inverse has certain properties, like:\n",
    "  - $n^{-1}n = 1$\n",
    "  - $(n^{-1})^{-1} = n$"
   ]
  },
  {
   "cell_type": "markdown",
   "metadata": {},
   "source": [
    "## Inverting matrices\n",
    "\n",
    "- There is an analogous concept for matrices. \n",
    "- For a square matrix $A_{m \\times m}$, its inverse is written $A^{-1}$ and it satisfies:\n",
    "\n",
    "  - $A^{-1}A = I$ where $I$ is the $m \\times m$ identity matrix\n",
    "  - $(A^{-1})^{-1} = A$\n",
    "  - $(A^T)^{-1} = (A^{-1})^T$\n",
    "\n",
    "Not all matrices are invertible: a matrix needs to be square, and its [determinant](https://en.wikipedia.org/wiki/Determinant) needs to be non-zero. There is a function to invert matrices in `scipy.linalg` called `inv`."
   ]
  },
  {
   "cell_type": "code",
   "execution_count": 12,
   "metadata": {},
   "outputs": [
    {
     "name": "stdout",
     "output_type": "stream",
     "text": [
      "[[ 0.49097889  0.84919912  0.31654322]\n",
      " [ 0.79819363  0.20894901  0.00828292]\n",
      " [ 0.64928251  0.78287426  0.10600493]]\n",
      "[[ 0.16443901  1.65638694 -0.62045962]\n",
      " [-0.83173504 -1.61109759  2.60954536]\n",
      " [ 5.13538909  1.75297276 -6.03832572]]\n"
     ]
    }
   ],
   "source": [
    "from scipy.linalg import inv\n",
    "A = np.random.uniform(0,1,(3,3))\n",
    "print(A)\n",
    "print(inv(A))"
   ]
  },
  {
   "cell_type": "markdown",
   "metadata": {},
   "source": [
    "## Properties of matrix inverse\n",
    "- $A^{-1}A = I$ where $I$ is the $m \\times m$ identity matrix\n",
    "- $(A^{-1})^{-1} = A$\n",
    "- $(A^T)^{-1} = (A^{-1})^T$"
   ]
  },
  {
   "cell_type": "markdown",
   "metadata": {},
   "source": [
    "### Exercise 4.5\n",
    "\n",
    "Verify the three properties of the matrix inverse operations listed above for a random $m \\times m$ numpy matrix. "
   ]
  },
  {
   "cell_type": "code",
   "execution_count": 13,
   "metadata": {},
   "outputs": [
    {
     "name": "stdout",
     "output_type": "stream",
     "text": [
      "True\n",
      "True\n",
      "True\n"
     ]
    }
   ],
   "source": [
    "# 8<----------------------------------------------------------------\n",
    "A = np.random.normal(0, 1, (5, 5))\n",
    "print(np.allclose(  inv(A) @ A,   np.eye(5)         ))\n",
    "print(np.allclose(  inv(inv(A)),  A                    ))\n",
    "print(np.allclose(  inv(A.T),     inv(A).T             ))"
   ]
  },
  {
   "cell_type": "code",
   "execution_count": 14,
   "metadata": {},
   "outputs": [
    {
     "name": "stdout",
     "output_type": "stream",
     "text": [
      "True\n"
     ]
    }
   ],
   "source": [
    "# 8<----------------------------------------------\n",
    "print(np.allclose( inv(A) @ A,  np.eye(5)))"
   ]
  },
  {
   "cell_type": "markdown",
   "metadata": {},
   "source": [
    "## Ordinary Least Squares formula for Linear Regression\n",
    "\n",
    "- Ready to implement the formula which can be used to find the coefficients of linear regression:\n",
    "\n",
    "$$\\hat\\beta = (X^TX)^{-1}X^Ty$$\n",
    "\n",
    "- Remember that $X$ has \n",
    "  - $N$ rows corresponding to the $N$ datapoints, and\n",
    "  - $M$ columns corresponding to the $M$ predictors. \n",
    "  - The formula defines the vector $\\hat\\beta$ with the $M$ regression coefficients.\n",
    "\n",
    "- We will apply this formula to the winequality dataset.\n"
   ]
  },
  {
   "cell_type": "code",
   "execution_count": 15,
   "metadata": {},
   "outputs": [
    {
     "data": {
      "text/html": [
       "<div>\n",
       "<table border=\"1\" class=\"dataframe\">\n",
       "  <thead>\n",
       "    <tr style=\"text-align: right;\">\n",
       "      <th></th>\n",
       "      <th>fixed acidity</th>\n",
       "      <th>volatile acidity</th>\n",
       "      <th>citric acid</th>\n",
       "      <th>residual sugar</th>\n",
       "      <th>chlorides</th>\n",
       "      <th>free sulfur dioxide</th>\n",
       "      <th>total sulfur dioxide</th>\n",
       "      <th>density</th>\n",
       "      <th>pH</th>\n",
       "      <th>sulphates</th>\n",
       "      <th>alcohol</th>\n",
       "      <th>quality</th>\n",
       "    </tr>\n",
       "  </thead>\n",
       "  <tbody>\n",
       "    <tr>\n",
       "      <th>0</th>\n",
       "      <td>7.4</td>\n",
       "      <td>0.70</td>\n",
       "      <td>0.00</td>\n",
       "      <td>1.9</td>\n",
       "      <td>0.076</td>\n",
       "      <td>11.0</td>\n",
       "      <td>34.0</td>\n",
       "      <td>0.9978</td>\n",
       "      <td>3.51</td>\n",
       "      <td>0.56</td>\n",
       "      <td>9.4</td>\n",
       "      <td>5</td>\n",
       "    </tr>\n",
       "    <tr>\n",
       "      <th>1</th>\n",
       "      <td>7.8</td>\n",
       "      <td>0.88</td>\n",
       "      <td>0.00</td>\n",
       "      <td>2.6</td>\n",
       "      <td>0.098</td>\n",
       "      <td>25.0</td>\n",
       "      <td>67.0</td>\n",
       "      <td>0.9968</td>\n",
       "      <td>3.20</td>\n",
       "      <td>0.68</td>\n",
       "      <td>9.8</td>\n",
       "      <td>5</td>\n",
       "    </tr>\n",
       "    <tr>\n",
       "      <th>2</th>\n",
       "      <td>7.8</td>\n",
       "      <td>0.76</td>\n",
       "      <td>0.04</td>\n",
       "      <td>2.3</td>\n",
       "      <td>0.092</td>\n",
       "      <td>15.0</td>\n",
       "      <td>54.0</td>\n",
       "      <td>0.9970</td>\n",
       "      <td>3.26</td>\n",
       "      <td>0.65</td>\n",
       "      <td>9.8</td>\n",
       "      <td>5</td>\n",
       "    </tr>\n",
       "    <tr>\n",
       "      <th>3</th>\n",
       "      <td>11.2</td>\n",
       "      <td>0.28</td>\n",
       "      <td>0.56</td>\n",
       "      <td>1.9</td>\n",
       "      <td>0.075</td>\n",
       "      <td>17.0</td>\n",
       "      <td>60.0</td>\n",
       "      <td>0.9980</td>\n",
       "      <td>3.16</td>\n",
       "      <td>0.58</td>\n",
       "      <td>9.8</td>\n",
       "      <td>6</td>\n",
       "    </tr>\n",
       "    <tr>\n",
       "      <th>4</th>\n",
       "      <td>7.4</td>\n",
       "      <td>0.70</td>\n",
       "      <td>0.00</td>\n",
       "      <td>1.9</td>\n",
       "      <td>0.076</td>\n",
       "      <td>11.0</td>\n",
       "      <td>34.0</td>\n",
       "      <td>0.9978</td>\n",
       "      <td>3.51</td>\n",
       "      <td>0.56</td>\n",
       "      <td>9.4</td>\n",
       "      <td>5</td>\n",
       "    </tr>\n",
       "  </tbody>\n",
       "</table>\n",
       "</div>"
      ],
      "text/plain": [
       "   fixed acidity  volatile acidity  citric acid  residual sugar  chlorides  \\\n",
       "0            7.4              0.70         0.00             1.9      0.076   \n",
       "1            7.8              0.88         0.00             2.6      0.098   \n",
       "2            7.8              0.76         0.04             2.3      0.092   \n",
       "3           11.2              0.28         0.56             1.9      0.075   \n",
       "4            7.4              0.70         0.00             1.9      0.076   \n",
       "\n",
       "   free sulfur dioxide  total sulfur dioxide  density    pH  sulphates  \\\n",
       "0                 11.0                  34.0   0.9978  3.51       0.56   \n",
       "1                 25.0                  67.0   0.9968  3.20       0.68   \n",
       "2                 15.0                  54.0   0.9970  3.26       0.65   \n",
       "3                 17.0                  60.0   0.9980  3.16       0.58   \n",
       "4                 11.0                  34.0   0.9978  3.51       0.56   \n",
       "\n",
       "   alcohol  quality  \n",
       "0      9.4        5  \n",
       "1      9.8        5  \n",
       "2      9.8        5  \n",
       "3      9.8        6  \n",
       "4      9.4        5  "
      ]
     },
     "execution_count": 15,
     "metadata": {},
     "output_type": "execute_result"
    }
   ],
   "source": [
    "# Load winequality as a pandas dataframe\n",
    "import pandas as pd\n",
    "data = pd.read_csv(\"winequality-red.csv\", delimiter=';')\n",
    "data.head()"
   ]
  },
  {
   "cell_type": "code",
   "execution_count": 16,
   "metadata": {},
   "outputs": [
    {
     "name": "stdout",
     "output_type": "stream",
     "text": [
      "(1599, 12)\n"
     ]
    }
   ],
   "source": [
    "# Convert dataframe array into array of numeric values\n",
    "Xy = data.values\n",
    "print(Xy.shape)"
   ]
  },
  {
   "cell_type": "code",
   "execution_count": 17,
   "metadata": {},
   "outputs": [
    {
     "name": "stdout",
     "output_type": "stream",
     "text": [
      "(1599, 11)\n",
      "(1599, 1)\n"
     ]
    }
   ],
   "source": [
    "# Extract features X and target y from Xy\n",
    "X = Xy[:,:-1]\n",
    "y = Xy[:,-1:]\n",
    "print(X.shape)\n",
    "print(y.shape)"
   ]
  },
  {
   "cell_type": "code",
   "execution_count": 18,
   "metadata": {},
   "outputs": [
    {
     "name": "stdout",
     "output_type": "stream",
     "text": [
      "[[  1.      7.4     0.7   ...,   3.51    0.56    9.4  ]\n",
      " [  1.      7.8     0.88  ...,   3.2     0.68    9.8  ]\n",
      " [  1.      7.8     0.76  ...,   3.26    0.65    9.8  ]\n",
      " ..., \n",
      " [  1.      6.3     0.51  ...,   3.42    0.75   11.   ]\n",
      " [  1.      5.9     0.645 ...,   3.57    0.71   10.2  ]\n",
      " [  1.      6.      0.31  ...,   3.39    0.66   11.   ]]\n"
     ]
    }
   ],
   "source": [
    "# Add dummy constant feature\n",
    "X_new = np.concatenate([ np.ones((1599,1)), X ], axis=1)\n",
    "print(X_new)\n"
   ]
  },
  {
   "cell_type": "markdown",
   "metadata": {},
   "source": [
    "### Exercise 4.6\n",
    "\n",
    "Implement function `fit` which takes a matrix of predictors and a vector of targets, and returns the vector of regression coefficients computed according to the OLS formula.\n",
    "Apply this function to the winequality data."
   ]
  },
  {
   "cell_type": "markdown",
   "metadata": {},
   "source": [
    "$$(X^T X)^{-1} X^T y$$"
   ]
  },
  {
   "cell_type": "code",
   "execution_count": 19,
   "metadata": {},
   "outputs": [],
   "source": [
    "def fit(X, y):\n",
    "    # 8<------------------------------------\n",
    "    return inv(X.T @ X) @ X.T @ y"
   ]
  },
  {
   "cell_type": "code",
   "execution_count": 20,
   "metadata": {},
   "outputs": [
    {
     "name": "stdout",
     "output_type": "stream",
     "text": [
      "[[  2.19652085e+01]\n",
      " [  2.49905527e-02]\n",
      " [ -1.08359026e+00]\n",
      " [ -1.82563948e-01]\n",
      " [  1.63312698e-02]\n",
      " [ -1.87422516e+00]\n",
      " [  4.36133331e-03]\n",
      " [ -3.26457970e-03]\n",
      " [ -1.78811638e+01]\n",
      " [ -4.13653144e-01]\n",
      " [  9.16334413e-01]\n",
      " [  2.76197699e-01]]\n"
     ]
    }
   ],
   "source": [
    "beta = fit(X_new, y)\n",
    "print(beta)"
   ]
  },
  {
   "cell_type": "code",
   "execution_count": 21,
   "metadata": {},
   "outputs": [
    {
     "data": {
      "text/plain": [
       "array([[ 0.54531392],\n",
       "       [ 1.93350958],\n",
       "       [-0.2695241 ]])"
      ]
     },
     "execution_count": 21,
     "metadata": {},
     "output_type": "execute_result"
    }
   ],
   "source": [
    "fit(X[:,:3], y)"
   ]
  },
  {
   "cell_type": "markdown",
   "metadata": {},
   "source": [
    "### Exercise 4.7\n",
    "\n",
    "Implement function `predict` which takes a vector of coefficients and a vector of predictors, and returns the predicted targets according to the regression formula (see beginning of notebook). Apply this function to the coefficients from the previous exercise, and the winequality data."
   ]
  },
  {
   "cell_type": "code",
   "execution_count": 22,
   "metadata": {},
   "outputs": [],
   "source": [
    "def predict(beta, X):\n",
    "    # 8< --------------------------------\n",
    "    return X @ beta\n"
   ]
  },
  {
   "cell_type": "code",
   "execution_count": 23,
   "metadata": {},
   "outputs": [
    {
     "name": "stdout",
     "output_type": "stream",
     "text": [
      "[[ 5.          5.03285045]\n",
      " [ 5.          5.13787974]\n",
      " [ 5.          5.20989474]\n",
      " ..., \n",
      " [ 6.          5.94304254]\n",
      " [ 5.          5.47075621]\n",
      " [ 6.          6.00819633]]\n"
     ]
    }
   ],
   "source": [
    "beta = fit(X_new, y)\n",
    "y_pred = predict(beta, X_new)\n",
    "print(np.concatenate([ y, y_pred], axis=1))"
   ]
  },
  {
   "cell_type": "markdown",
   "metadata": {},
   "source": [
    "### Exercise 4.8\n",
    "\n",
    "Define the following two functions to quantify how well the regression is able to predict the targets:\n",
    "- `mse` - mean squared error, defined as the mean of the squared difference between each prediction and true target: $$MSE(y, \\hat{y}) = \\frac{1}{N}\\sum_{i=1}^N (y_i-\\hat{y}_i)^2$$\n",
    "- `mae` - mean absolute error, defined as the mean of the absolute difference between each prediction and true target: $$MAE(y, \\hat{y}) = \\frac{1}{N}\\sum_{i=1}^N abs(y_i-\\hat{y}_i)$$\n",
    "\n",
    "Check how well your regression functions predict the targets in winequality according to these error measures."
   ]
  },
  {
   "cell_type": "code",
   "execution_count": 24,
   "metadata": {},
   "outputs": [],
   "source": [
    "def mse(y, y_pred):\n",
    "    return np.mean((y - y_pred)**2)\n",
    "def mse_silly(y, y_pred):\n",
    "    return np.sum((y - y_pred)**2)/len(y)\n",
    "def mae(y, y_pred):\n",
    "    return np.mean(np.abs(y - y_pred))\n"
   ]
  },
  {
   "cell_type": "code",
   "execution_count": 25,
   "metadata": {},
   "outputs": [
    {
     "name": "stdout",
     "output_type": "stream",
     "text": [
      "0.416767167221\n",
      "0.416767167221\n"
     ]
    }
   ],
   "source": [
    "print(mse(y, y_pred))\n",
    "print(mse_silly(y, y_pred))"
   ]
  },
  {
   "cell_type": "markdown",
   "metadata": {},
   "source": [
    "### Exercise 4.9\n",
    "\n",
    "- Load the [iris.txt](iris.txt) data and extract the first three column into a predictor matrix, and the fourth column into a target vector. Apply the functions `fit` and `predict` to this data, and check the MSE and MAE of your predictions."
   ]
  },
  {
   "cell_type": "code",
   "execution_count": 26,
   "metadata": {},
   "outputs": [
    {
     "data": {
      "text/html": [
       "<div>\n",
       "<table border=\"1\" class=\"dataframe\">\n",
       "  <thead>\n",
       "    <tr style=\"text-align: right;\">\n",
       "      <th></th>\n",
       "      <th>0</th>\n",
       "      <th>1</th>\n",
       "      <th>2</th>\n",
       "      <th>3</th>\n",
       "      <th>4</th>\n",
       "    </tr>\n",
       "  </thead>\n",
       "  <tbody>\n",
       "    <tr>\n",
       "      <th>0</th>\n",
       "      <td>5.1</td>\n",
       "      <td>3.5</td>\n",
       "      <td>1.4</td>\n",
       "      <td>0.2</td>\n",
       "      <td>setosa</td>\n",
       "    </tr>\n",
       "    <tr>\n",
       "      <th>1</th>\n",
       "      <td>4.9</td>\n",
       "      <td>3.0</td>\n",
       "      <td>1.4</td>\n",
       "      <td>0.2</td>\n",
       "      <td>setosa</td>\n",
       "    </tr>\n",
       "    <tr>\n",
       "      <th>2</th>\n",
       "      <td>4.7</td>\n",
       "      <td>3.2</td>\n",
       "      <td>1.3</td>\n",
       "      <td>0.2</td>\n",
       "      <td>setosa</td>\n",
       "    </tr>\n",
       "    <tr>\n",
       "      <th>3</th>\n",
       "      <td>4.6</td>\n",
       "      <td>3.1</td>\n",
       "      <td>1.5</td>\n",
       "      <td>0.2</td>\n",
       "      <td>setosa</td>\n",
       "    </tr>\n",
       "    <tr>\n",
       "      <th>4</th>\n",
       "      <td>5.0</td>\n",
       "      <td>3.6</td>\n",
       "      <td>1.4</td>\n",
       "      <td>0.2</td>\n",
       "      <td>setosa</td>\n",
       "    </tr>\n",
       "  </tbody>\n",
       "</table>\n",
       "</div>"
      ],
      "text/plain": [
       "     0    1    2    3       4\n",
       "0  5.1  3.5  1.4  0.2  setosa\n",
       "1  4.9  3.0  1.4  0.2  setosa\n",
       "2  4.7  3.2  1.3  0.2  setosa\n",
       "3  4.6  3.1  1.5  0.2  setosa\n",
       "4  5.0  3.6  1.4  0.2  setosa"
      ]
     },
     "execution_count": 26,
     "metadata": {},
     "output_type": "execute_result"
    }
   ],
   "source": [
    "# 8<-------------------------\n",
    "iris = pd.read_csv(\"iris.txt\", delim_whitespace=True, header=None)\n",
    "iris.head()"
   ]
  },
  {
   "cell_type": "code",
   "execution_count": 27,
   "metadata": {},
   "outputs": [
    {
     "name": "stdout",
     "output_type": "stream",
     "text": [
      "0.0358686511382\n",
      "0.143113459852\n"
     ]
    }
   ],
   "source": [
    "# extract first three columns\n",
    "X = iris[[0,1,2]].values\n",
    "# Add dummy bias column\n",
    "X = np.concatenate([np.ones((150, 1)), X], axis=1)\n",
    "# extract fourth column\n",
    "y = iris[3].values\n",
    "# Fit linear model\n",
    "coef = fit(X, y)\n",
    "y_pred = predict(coef, X)\n",
    "print(mse(y, y_pred))\n",
    "print(mae(y, y_pred))"
   ]
  },
  {
   "cell_type": "code",
   "execution_count": null,
   "metadata": {},
   "outputs": [],
   "source": []
  }
 ],
 "metadata": {
  "celltoolbar": "Slideshow",
  "kernelspec": {
   "display_name": "Python 3",
   "language": "python",
   "name": "python3"
  },
  "language_info": {
   "codemirror_mode": {
    "name": "ipython",
    "version": 3
   },
   "file_extension": ".py",
   "mimetype": "text/x-python",
   "name": "python",
   "nbconvert_exporter": "python",
   "pygments_lexer": "ipython3",
   "version": "3.5.3"
  }
 },
 "nbformat": 4,
 "nbformat_minor": 1
}
