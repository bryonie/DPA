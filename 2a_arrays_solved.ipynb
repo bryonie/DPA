{
 "cells": [
  {
   "cell_type": "markdown",
   "metadata": {
    "slideshow": {
     "slide_type": "slide"
    }
   },
   "source": [
    "# 2. Arrays - Part 1"
   ]
  },
  {
   "cell_type": "code",
   "execution_count": 1,
   "metadata": {
    "slideshow": {
     "slide_type": "slide"
    }
   },
   "outputs": [],
   "source": [
    "import numpy as np"
   ]
  },
  {
   "cell_type": "markdown",
   "metadata": {
    "slideshow": {
     "slide_type": "slide"
    }
   },
   "source": [
    "## Creating arrays\n",
    "An array is a table of elements. \n",
    "\n",
    "It can be from the values specified in a list (or tuple) with the `array` function. \n",
    "\n",
    "An n-dimensional array can be created by passing a nested list to this function. See also  \n",
    "http://docs.scipy.org/doc/numpy/user/basics.creation.html"
   ]
  },
  {
   "cell_type": "code",
   "execution_count": 2,
   "metadata": {},
   "outputs": [
    {
     "name": "stdout",
     "output_type": "stream",
     "text": [
      "[1 3 5 7 9]\n"
     ]
    }
   ],
   "source": [
    "# create array from a list:\n",
    "print(np.array([1, 3, 5, 7, 9]))"
   ]
  },
  {
   "cell_type": "code",
   "execution_count": 3,
   "metadata": {},
   "outputs": [
    {
     "name": "stdout",
     "output_type": "stream",
     "text": [
      "[1 3 5 7 9]\n",
      "\n"
     ]
    }
   ],
   "source": [
    "# create array from a tuple:\n",
    "print( np.array((1, 3, 5, 7, 9)) )\n",
    "print()"
   ]
  },
  {
   "cell_type": "code",
   "execution_count": 4,
   "metadata": {},
   "outputs": [
    {
     "name": "stdout",
     "output_type": "stream",
     "text": [
      "[[2 3 3]\n",
      " [4 5 6]]\n"
     ]
    }
   ],
   "source": [
    "# 2x3 array\n",
    "print(np.array([[2, 3, 3], [4, 5, 6]]))"
   ]
  },
  {
   "cell_type": "markdown",
   "metadata": {},
   "source": [
    "- `empty` creates an empty array (filled with arbitrary values)\n",
    "- `zeros` creates an array filled with zeros\n",
    "- `ones` creates an array filled with ones.\n",
    "All these functions take the shape of the array as input. (More about the shape and dimensionality is explained in the next section.)"
   ]
  },
  {
   "cell_type": "code",
   "execution_count": 5,
   "metadata": {},
   "outputs": [
    {
     "name": "stdout",
     "output_type": "stream",
     "text": [
      "[[  9.88131292e-324   1.48219694e-323   1.48219694e-323]\n",
      " [  1.97626258e-323   2.47032823e-323   2.96439388e-323]]\n"
     ]
    }
   ],
   "source": [
    "twoxthree = (2,3)\n",
    "# create an empty array:\n",
    "print( np.empty(twoxthree) )"
   ]
  },
  {
   "cell_type": "code",
   "execution_count": 6,
   "metadata": {},
   "outputs": [
    {
     "name": "stdout",
     "output_type": "stream",
     "text": [
      "[[ 0.  0.  0.]\n",
      " [ 0.  0.  0.]]\n"
     ]
    }
   ],
   "source": [
    "# create array with only zeros:\n",
    "print( np.zeros((2,3)) )"
   ]
  },
  {
   "cell_type": "code",
   "execution_count": 7,
   "metadata": {},
   "outputs": [
    {
     "name": "stdout",
     "output_type": "stream",
     "text": [
      "[[ 1.  1.  1.]\n",
      " [ 1.  1.  1.]]\n"
     ]
    }
   ],
   "source": [
    "# create array with only ones:\n",
    "print (np.ones((2,3)) )"
   ]
  },
  {
   "cell_type": "markdown",
   "metadata": {},
   "source": [
    "### Random arrays\n",
    "`np.random.random` creates an array with numbers draw uniformly at random from the interval between 0 and 1.\n",
    "\n",
    "The expression `np.random.uniform(x, y, z)` returns an array with with shape `z` random numbers uniformly drawn from the interval between `x` and `y`."
   ]
  },
  {
   "cell_type": "markdown",
   "metadata": {},
   "source": [
    "(The random seed can be set to an integer *n* fixed with `np.random.seed(n)`. Note that the random number generator, and the random seed, used by numpy and base Python is different.)"
   ]
  },
  {
   "cell_type": "code",
   "execution_count": 8,
   "metadata": {},
   "outputs": [
    {
     "name": "stdout",
     "output_type": "stream",
     "text": [
      "[[ 0.70043712  0.84418664]\n",
      " [ 0.67651434  0.72785806]]\n"
     ]
    }
   ],
   "source": [
    "np.random.seed(666)\n",
    "# create array with random numbers between 0 and 1:\n",
    "print(np.random.random((2,2)))"
   ]
  },
  {
   "cell_type": "code",
   "execution_count": 9,
   "metadata": {},
   "outputs": [
    {
     "name": "stdout",
     "output_type": "stream",
     "text": [
      "[[ 0.90291591 -0.97459361 -0.1728246 ]\n",
      " [-0.90237441 -0.80014288  0.01613261]]\n"
     ]
    }
   ],
   "source": [
    "# create array with random numbers between 5 and 10:\n",
    "print( np.random.uniform(-1, 1, (2,3)) )"
   ]
  },
  {
   "cell_type": "markdown",
   "metadata": {
    "slideshow": {
     "slide_type": "slide"
    }
   },
   "source": [
    "Random numbers from the normal distribution:"
   ]
  },
  {
   "cell_type": "code",
   "execution_count": 10,
   "metadata": {},
   "outputs": [
    {
     "name": "stdout",
     "output_type": "stream",
     "text": [
      "[[ 11.40573153  -2.86443172]\n",
      " [ 11.08869993  -4.31011849]]\n"
     ]
    }
   ],
   "source": [
    "print(np.random.normal(5, 10, (2,2)))"
   ]
  },
  {
   "cell_type": "code",
   "execution_count": 11,
   "metadata": {},
   "outputs": [
    {
     "name": "stdout",
     "output_type": "stream",
     "text": [
      "[[ 14.78222248  -2.36918061]\n",
      " [  2.01267382   0.39412625]]\n"
     ]
    }
   ],
   "source": [
    "# we can specify mean, standard deviation and size by keyword\n",
    "print(np.random.normal(loc=5, scale=10, size=(2,2)))"
   ]
  },
  {
   "cell_type": "markdown",
   "metadata": {},
   "source": [
    "### Identity matrix\n",
    "The identity matrix is a $n \\times n$ matrix with all zeros, but with ones on the diagonal. \n",
    "The identity matrix can be created with the `eye(n)` function. Since the identity matrix is always a square only one input parameter is needed to create a 2-dimensional matrix."
   ]
  },
  {
   "cell_type": "code",
   "execution_count": 12,
   "metadata": {},
   "outputs": [
    {
     "name": "stdout",
     "output_type": "stream",
     "text": [
      "[[ 1.  0.  0.  0.  0.]\n",
      " [ 0.  1.  0.  0.  0.]\n",
      " [ 0.  0.  1.  0.  0.]\n",
      " [ 0.  0.  0.  1.  0.]\n",
      " [ 0.  0.  0.  0.  1.]]\n"
     ]
    }
   ],
   "source": [
    "# create n by n identity matrix:\n",
    "print( np.eye(5))"
   ]
  },
  {
   "cell_type": "markdown",
   "metadata": {},
   "source": [
    "### Ranges\n",
    "Numpy has a function to create arrays with numbers within a range: `arange(a, b, s)`, where $a$ is the start point, $b$ is the end point and $s$ is the step size. The function can have floats as inputs.\n",
    "\n",
    "Another function to create a range is `linspace(a, b, i)`, where $a$ is the start point, $b$ is the end point, and $i$ is the number of items.\n"
   ]
  },
  {
   "cell_type": "code",
   "execution_count": 13,
   "metadata": {},
   "outputs": [
    {
     "name": "stdout",
     "output_type": "stream",
     "text": [
      "[ 1.  3.  5.  7.  9.]\n"
     ]
    }
   ],
   "source": [
    "# use fixed step size:\n",
    "x = np.arange(1.0, 10.0, 2.0)\n",
    "print(x)"
   ]
  },
  {
   "cell_type": "code",
   "execution_count": 14,
   "metadata": {},
   "outputs": [
    {
     "name": "stdout",
     "output_type": "stream",
     "text": [
      "[  1.     3.25   5.5    7.75  10.  ]\n"
     ]
    }
   ],
   "source": [
    "# use fixed number of items:\n",
    "y = np.linspace(1.0, 10.0, 5)\n",
    "print(y)"
   ]
  },
  {
   "cell_type": "markdown",
   "metadata": {},
   "source": [
    "## Dimensions\n",
    "\n",
    "The array class in Python is called \"ndarray\". \n",
    "An array can be 1-dimensional, which is often called a (row or column) vector. By default, a one-dimensional numpy array is a row vector. In order to create a column vector, you need to use a two-dimensional array, with the second dimension equal to 1. See examples below.\n"
   ]
  },
  {
   "cell_type": "markdown",
   "metadata": {},
   "source": [
    "An array can be 2-dimensional, where $m$ is the number of rows and $n$ the number of columns. \n",
    "In case of a 2-dimensional array, the first dimension is the rows and the second dimension is the columns.\n",
    "\n",
    "### Bookshelf analogy\n",
    "An array can be $n$-dimensional. You think of $n$-dimensional arrays in terms of the bookshelf analogy:\n",
    "\n",
    "- 1d array is a single row of a bookshelf, where a book can be identified by its position in the row\n",
    "- 2d array is the whole bookshelf, where a book can be identified by its row number and its position in the row\n",
    "- 3d array is a room full of bookshelves, where a book can be identified by the number of the bookshelf, row, and position in the row\n",
    "- 4d array is a library with rooms with bookshelves, where a book can be identified by the room, bookshelf, row and position in the row\n",
    "\n",
    "\n",
    "### Reshaping arrays\n",
    "A 1D array can be converted to an $n$ dimensional array using the `reshape` function. \n",
    "\n",
    "Note that the the total number of elements in the array have to be the same as the product of the lengths of the dimensions. For example, if the length of the list is 24, then we can reshape it to a 4 by 6 matrix, but also to a 2 by 3 by 4 matrix.\n",
    "\n",
    "Let's assume we have a 2x3x4 matrix, which we will call `z`. Since the index in Python starts at 0, the first element of the array is `z[0, 0, 0]`, and the last element of the array is `z[1, 2, 3]`.\n",
    "\n",
    "Let x be the ndarray. Some important attributes to get insight in the dimensionality:\n",
    "- `x.ndim` : the number of dimensions.\n",
    "- `x.shape` : the length of each dimension.\n",
    "- `x.size` : the total number of elements."
   ]
  },
  {
   "cell_type": "markdown",
   "metadata": {},
   "source": [
    "### Creating row vectors"
   ]
  },
  {
   "cell_type": "code",
   "execution_count": 15,
   "metadata": {},
   "outputs": [
    {
     "name": "stdout",
     "output_type": "stream",
     "text": [
      "[ 0.  0.  0.]\n",
      "1 (3,) 3\n"
     ]
    }
   ],
   "source": [
    "a = np.zeros((3))\n",
    "print(a); \n",
    "print(a.ndim, a.shape, a.size)"
   ]
  },
  {
   "cell_type": "code",
   "execution_count": 16,
   "metadata": {},
   "outputs": [
    {
     "name": "stdout",
     "output_type": "stream",
     "text": [
      "[1 2 3]\n",
      "1 (3,) 3\n"
     ]
    }
   ],
   "source": [
    "b = np.array([1, 2, 3])\n",
    "print(b); \n",
    "print(b.ndim, b.shape, b.size)"
   ]
  },
  {
   "cell_type": "code",
   "execution_count": 17,
   "metadata": {},
   "outputs": [
    {
     "name": "stdout",
     "output_type": "stream",
     "text": [
      "[[ 0.  0.  0.]]\n"
     ]
    }
   ],
   "source": [
    "c = np.zeros((1,3))\n",
    "print(c)"
   ]
  },
  {
   "cell_type": "code",
   "execution_count": 18,
   "metadata": {},
   "outputs": [
    {
     "name": "stdout",
     "output_type": "stream",
     "text": [
      "2 (1, 3) 3\n"
     ]
    }
   ],
   "source": [
    "d = b.reshape((1,3))\n",
    "print(d.ndim, d.shape, d.size)"
   ]
  },
  {
   "cell_type": "markdown",
   "metadata": {},
   "source": [
    "### Creating column vectors"
   ]
  },
  {
   "cell_type": "code",
   "execution_count": 19,
   "metadata": {},
   "outputs": [
    {
     "name": "stdout",
     "output_type": "stream",
     "text": [
      "[[ 0.]\n",
      " [ 0.]\n",
      " [ 0.]]\n",
      "2 (3, 1) 3\n"
     ]
    }
   ],
   "source": [
    "a = np.zeros((3, 1))\n",
    "print(a); \n",
    "print(a.ndim, a.shape, a.size)"
   ]
  },
  {
   "cell_type": "code",
   "execution_count": 20,
   "metadata": {},
   "outputs": [
    {
     "name": "stdout",
     "output_type": "stream",
     "text": [
      "[1 2 3]\n",
      "1\n"
     ]
    }
   ],
   "source": [
    "b_1 = np.array([1,2,3])\n",
    "print(b_1)\n",
    "print(b_1.ndim)"
   ]
  },
  {
   "cell_type": "code",
   "execution_count": 21,
   "metadata": {},
   "outputs": [
    {
     "name": "stdout",
     "output_type": "stream",
     "text": [
      "[[1]\n",
      " [2]\n",
      " [3]]\n",
      "2 (3, 1) 3\n"
     ]
    }
   ],
   "source": [
    "b = np.array([[1], [2], [3]])\n",
    "print(b); print(b.ndim, b.shape, b.size)"
   ]
  },
  {
   "cell_type": "code",
   "execution_count": 22,
   "metadata": {},
   "outputs": [
    {
     "name": "stdout",
     "output_type": "stream",
     "text": [
      "[1 2 3]\n",
      "[[1]\n",
      " [2]\n",
      " [3]]\n",
      "2 (3, 1) 3\n"
     ]
    }
   ],
   "source": [
    "c_row = np.array([1,2,3])\n",
    "print(c_row)\n",
    "shape = (3,1)\n",
    "c = c_row.reshape(shape)\n",
    "print(c); print(c.ndim, c.shape, c.size)"
   ]
  },
  {
   "cell_type": "markdown",
   "metadata": {},
   "source": [
    "### Creating two-dimensional arrays\n",
    "\n",
    "Two or more dimensional arrays can br created by reshaping one-dimensional arrays, or by passing in nested lists to the `array` function."
   ]
  },
  {
   "cell_type": "code",
   "execution_count": 23,
   "metadata": {},
   "outputs": [
    {
     "name": "stdout",
     "output_type": "stream",
     "text": [
      "[[ 2  4  6]\n",
      " [ 8 10 12]]\n"
     ]
    }
   ],
   "source": [
    "print( np.arange(2, 14, 2).reshape((2, 3)) )"
   ]
  },
  {
   "cell_type": "code",
   "execution_count": 24,
   "metadata": {},
   "outputs": [
    {
     "name": "stdout",
     "output_type": "stream",
     "text": [
      "[[1 3]\n",
      " [2 4]]\n"
     ]
    }
   ],
   "source": [
    "print( np.array([[1, 3], [2, 4]]) )"
   ]
  },
  {
   "cell_type": "code",
   "execution_count": 25,
   "metadata": {},
   "outputs": [
    {
     "name": "stdout",
     "output_type": "stream",
     "text": [
      "[[[ 0  1  2  3]\n",
      "  [ 4  5  6  7]\n",
      "  [ 8  9 10 11]]\n",
      "\n",
      " [[12 13 14 15]\n",
      "  [16 17 18 19]\n",
      "  [20 21 22 23]]]\n",
      "Number of dimensions: 3\n",
      "Length of each dimension: (2, 3, 4)\n",
      "The total number of elements: 24\n"
     ]
    }
   ],
   "source": [
    "# create three dimensional arrays:\n",
    "z = np.arange(24).reshape((2, 3, 4))\n",
    "\n",
    "# dimensions/shape/size of the array:\n",
    "print(z)\n",
    "print(\"Number of dimensions:\", z.ndim)\n",
    "print(\"Length of each dimension:\", z.shape)\n",
    "print(\"The total number of elements:\", z.size)"
   ]
  },
  {
   "cell_type": "markdown",
   "metadata": {},
   "source": [
    "### Accessing elements"
   ]
  },
  {
   "cell_type": "code",
   "execution_count": 26,
   "metadata": {},
   "outputs": [
    {
     "name": "stdout",
     "output_type": "stream",
     "text": [
      "First element: 0\n",
      "Last element: 23\n",
      "Last element: 23\n",
      "Some element: 13\n"
     ]
    }
   ],
   "source": [
    "print(\"First element:\", z[0, 0, 0])\n",
    "print(\"Last element:\",  z[1, 2, 3])\n",
    "print(\"Last element:\",  z[-1, -1, -1])\n",
    "\n",
    "print(\"Some element:\",  z[1, 0, 1])"
   ]
  },
  {
   "cell_type": "markdown",
   "metadata": {},
   "source": [
    "### Accessing rows/columns and other axes"
   ]
  },
  {
   "cell_type": "code",
   "execution_count": 27,
   "metadata": {},
   "outputs": [
    {
     "name": "stdout",
     "output_type": "stream",
     "text": [
      "[[ 0.0232363   0.72732115  0.34003494]\n",
      " [ 0.19750316  0.90917959  0.97834699]]\n",
      "First row:\n",
      " [ 0.0232363   0.72732115  0.34003494]\n",
      "First row:\n",
      " [ 0.0232363   0.72732115  0.34003494]\n",
      "Second column:\n",
      " [ 0.72732115  0.90917959]\n",
      "First two columns:\n",
      " [[ 0.0232363   0.72732115]\n",
      " [ 0.19750316  0.90917959]]\n"
     ]
    }
   ],
   "source": [
    "# Extract axes\n",
    "a = np.random.random(2*3).reshape(2,3)\n",
    "print(a)\n",
    "print(\"First row:\\n\", a[0, :])\n",
    "print(\"First row:\\n\", a[0,])\n",
    "print(\"Second column:\\n\", a[:, 1])\n",
    "print(\"First two columns:\\n\", a[:, 0:2])"
   ]
  },
  {
   "cell_type": "markdown",
   "metadata": {},
   "source": [
    "## Exercises"
   ]
  },
  {
   "cell_type": "markdown",
   "metadata": {},
   "source": [
    "### Exercise 2a.1\n",
    "\n",
    "Generate a $5\\times 5 \\times 5$ 3D array of random numbers between -10.0 and 10.0. Reshape it to a $5 \\times 25$ matrix, and extract the first two rows of this matrix. \n"
   ]
  },
  {
   "cell_type": "code",
   "execution_count": 28,
   "metadata": {},
   "outputs": [
    {
     "name": "stdout",
     "output_type": "stream",
     "text": [
      "[[ 0.65605088 -4.81736301  1.67625238 -3.48618694  7.77798628  2.52809054\n",
      "   6.37747381  0.94690841 -1.66575988  4.86094383 -2.60807238 -8.49666912\n",
      "   5.50385957 -5.61181511 -8.41315746 -0.26438957 -6.92652196  6.56930267\n",
      "  -6.17262864 -4.59182092  1.22068842  8.0476078   7.03576684 -1.63836079\n",
      "  -2.13047463]\n",
      " [-9.67558973 -4.01573256 -2.92443563  7.87005331  5.72273139  5.42773851\n",
      "  -1.59890285  5.52050276 -0.71383713 -6.36459669  7.6805121   4.37584536\n",
      "   3.437626   -4.86872735 -1.38396355 -9.67092847 -5.30012347  0.22342622\n",
      "  -4.15981519  0.03787016 -0.0345374  -7.92456952 -1.07113769  9.38378337\n",
      "   4.76942243]]\n"
     ]
    }
   ],
   "source": [
    "# 8<----------------\n",
    "A = np.random.uniform(-10, 10, (5,5,5))\n",
    "B = A.reshape((5, 25))\n",
    "print(B[:2, :])"
   ]
  },
  {
   "cell_type": "markdown",
   "metadata": {},
   "source": [
    "### Exercise 2a.2\n",
    "\n",
    "First create the 2-D array (without typing it in explicitly):\n",
    "```python\n",
    "[[1,  6, 11],\n",
    " [2,  7, 12],\n",
    " [3,  8, 13],\n",
    " [4,  9, 14],\n",
    " [5, 10, 15]]\n",
    " \n",
    " ```\n",
    "You may find the function `numpy.transpose` useful for this purpose.\n",
    "\n",
    "Now extract a new array containing its 2nd and 4th rows."
   ]
  },
  {
   "cell_type": "code",
   "execution_count": 29,
   "metadata": {},
   "outputs": [
    {
     "name": "stdout",
     "output_type": "stream",
     "text": [
      "[[ 1  6 11]\n",
      " [ 2  7 12]\n",
      " [ 3  8 13]\n",
      " [ 4  9 14]\n",
      " [ 5 10 15]]\n"
     ]
    }
   ],
   "source": [
    "# 8<----------------\n",
    "a = np.arange(1, 16, 1).reshape((3,5))\n",
    "b = np.transpose(a)\n",
    "print(b)"
   ]
  },
  {
   "cell_type": "code",
   "execution_count": 30,
   "metadata": {},
   "outputs": [
    {
     "name": "stdout",
     "output_type": "stream",
     "text": [
      "[[ 2  7 12]\n",
      " [ 4  9 14]]\n"
     ]
    }
   ],
   "source": [
    "# 8<----------------\n",
    "print(b[[1,3], :])"
   ]
  },
  {
   "cell_type": "markdown",
   "metadata": {
    "collapsed": true
   },
   "source": [
    "### Exercise 2a.3\n",
    "\n",
    "Load the content of the file [population.txt](population.txt) into a numpy array. Extract the first column into a vector and assign it to variable named `year`, extract the second column and assign it to variable `hare`, etc for the four columns.\n",
    "\n",
    "Convert the variables `year` and `carrot` into the datatype `int`.\n"
   ]
  },
  {
   "cell_type": "code",
   "execution_count": 31,
   "metadata": {},
   "outputs": [
    {
     "name": "stdout",
     "output_type": "stream",
     "text": [
      "[[  1900.  30000.   4000.  48300.]\n",
      " [  1901.  47200.   6100.  48200.]\n",
      " [  1902.  70200.   9800.  41500.]\n",
      " [  1903.  77400.  35200.  38200.]\n",
      " [  1904.  36300.  59400.  40600.]\n",
      " [  1905.  20600.  41700.  39800.]\n",
      " [  1906.  18100.  19000.  38600.]\n",
      " [  1907.  21400.  13000.  42300.]\n",
      " [  1908.  22000.   8300.  44500.]\n",
      " [  1909.  25400.   9100.  42100.]\n",
      " [  1910.  27100.   7400.  46000.]\n",
      " [  1911.  40300.   8000.  46800.]\n",
      " [  1912.  57000.  12300.  43800.]\n",
      " [  1913.  76600.  19500.  40900.]\n",
      " [  1914.  52300.  45700.  39400.]\n",
      " [  1915.  19500.  51100.  39000.]\n",
      " [  1916.  11200.  29700.  36700.]\n",
      " [  1917.   7600.  15800.  41800.]\n",
      " [  1918.  14600.   9700.  43300.]\n",
      " [  1919.  16200.  10100.  41300.]\n",
      " [  1920.  24700.   8600.  47300.]]\n"
     ]
    }
   ],
   "source": [
    "# 8<----------------\n",
    "pop = np.loadtxt(\"population.txt\")\n",
    "print(pop)"
   ]
  },
  {
   "cell_type": "code",
   "execution_count": 32,
   "metadata": {},
   "outputs": [
    {
     "name": "stdout",
     "output_type": "stream",
     "text": [
      "[1900 1901 1902 1903 1904 1905 1906 1907 1908 1909 1910 1911 1912 1913 1914\n",
      " 1915 1916 1917 1918 1919 1920]\n",
      "[ 30000.  47200.  70200.  77400.  36300.  20600.  18100.  21400.  22000.\n",
      "  25400.  27100.  40300.  57000.  76600.  52300.  19500.  11200.   7600.\n",
      "  14600.  16200.  24700.]\n",
      "[  4000.   6100.   9800.  35200.  59400.  41700.  19000.  13000.   8300.\n",
      "   9100.   7400.   8000.  12300.  19500.  45700.  51100.  29700.  15800.\n",
      "   9700.  10100.   8600.]\n",
      "[48300 48200 41500 38200 40600 39800 38600 42300 44500 42100 46000 46800\n",
      " 43800 40900 39400 39000 36700 41800 43300 41300 47300]\n"
     ]
    }
   ],
   "source": [
    "# 8<----------------\n",
    "year = pop[:, 0].astype(np.int)\n",
    "hare = pop[:, 1]\n",
    "lynx = pop[:, 2]\n",
    "carrot = pop[:, 3].astype(np.int)\n",
    "print(year)\n",
    "print(hare)\n",
    "print(lynx)\n",
    "print(carrot)"
   ]
  },
  {
   "cell_type": "markdown",
   "metadata": {},
   "source": [
    "### Pandas\n",
    "\n",
    "- `pandas` is a library which provides datastructures useful for storing and processing tabular data and especially time series. It has some similarities to the statistical language R. "
   ]
  },
  {
   "cell_type": "code",
   "execution_count": 33,
   "metadata": {},
   "outputs": [],
   "source": [
    "import pandas as pd"
   ]
  },
  {
   "cell_type": "markdown",
   "metadata": {},
   "source": [
    "Pandas has a useful function `pd.read_csv` for loading CSV files. Tabular data is stored in a DataFrame object. The DataFrame will be pretty-printed by the Jupyter notebook:"
   ]
  },
  {
   "cell_type": "code",
   "execution_count": 34,
   "metadata": {},
   "outputs": [
    {
     "data": {
      "text/html": [
       "<div>\n",
       "<table border=\"1\" class=\"dataframe\">\n",
       "  <thead>\n",
       "    <tr style=\"text-align: right;\">\n",
       "      <th></th>\n",
       "      <th>hare</th>\n",
       "      <th>lynx</th>\n",
       "      <th>carrot</th>\n",
       "    </tr>\n",
       "    <tr>\n",
       "      <th>year</th>\n",
       "      <th></th>\n",
       "      <th></th>\n",
       "      <th></th>\n",
       "    </tr>\n",
       "  </thead>\n",
       "  <tbody>\n",
       "    <tr>\n",
       "      <th>1900</th>\n",
       "      <td>30000.0</td>\n",
       "      <td>4000.0</td>\n",
       "      <td>48300</td>\n",
       "    </tr>\n",
       "    <tr>\n",
       "      <th>1901</th>\n",
       "      <td>47200.0</td>\n",
       "      <td>6100.0</td>\n",
       "      <td>48200</td>\n",
       "    </tr>\n",
       "    <tr>\n",
       "      <th>1902</th>\n",
       "      <td>70200.0</td>\n",
       "      <td>9800.0</td>\n",
       "      <td>41500</td>\n",
       "    </tr>\n",
       "    <tr>\n",
       "      <th>1903</th>\n",
       "      <td>77400.0</td>\n",
       "      <td>35200.0</td>\n",
       "      <td>38200</td>\n",
       "    </tr>\n",
       "    <tr>\n",
       "      <th>1904</th>\n",
       "      <td>36300.0</td>\n",
       "      <td>59400.0</td>\n",
       "      <td>40600</td>\n",
       "    </tr>\n",
       "  </tbody>\n",
       "</table>\n",
       "</div>"
      ],
      "text/plain": [
       "         hare     lynx  carrot\n",
       "year                          \n",
       "1900  30000.0   4000.0   48300\n",
       "1901  47200.0   6100.0   48200\n",
       "1902  70200.0   9800.0   41500\n",
       "1903  77400.0  35200.0   38200\n",
       "1904  36300.0  59400.0   40600"
      ]
     },
     "execution_count": 34,
     "metadata": {},
     "output_type": "execute_result"
    }
   ],
   "source": [
    "data = pd.read_csv(\"population.csv\", sep='\\t', index_col='year')\n",
    "data.head()"
   ]
  },
  {
   "cell_type": "markdown",
   "metadata": {},
   "source": [
    "A DataFrame has labels for columns (similar to a numpy structured array) but it also can have labels for rows. The set of labels for rows is called an index. This is especially useful for time series. The index can be accessed via the `.index` attribute:"
   ]
  },
  {
   "cell_type": "code",
   "execution_count": 35,
   "metadata": {},
   "outputs": [
    {
     "name": "stdout",
     "output_type": "stream",
     "text": [
      "Int64Index([1900, 1901, 1902, 1903, 1904, 1905, 1906, 1907, 1908, 1909, 1910,\n",
      "            1911, 1912, 1913, 1914, 1915, 1916, 1917, 1918, 1919, 1920],\n",
      "           dtype='int64', name='year')\n"
     ]
    }
   ],
   "source": [
    "print(data.index)"
   ]
  },
  {
   "cell_type": "markdown",
   "metadata": {},
   "source": [
    "The data in a DataFrame can be accessed by column labels or by row labels. \n"
   ]
  },
  {
   "cell_type": "code",
   "execution_count": 36,
   "metadata": {},
   "outputs": [
    {
     "name": "stdout",
     "output_type": "stream",
     "text": [
      "year\n",
      "1900     4000.0\n",
      "1901     6100.0\n",
      "1902     9800.0\n",
      "1903    35200.0\n",
      "1904    59400.0\n",
      "1905    41700.0\n",
      "1906    19000.0\n",
      "1907    13000.0\n",
      "1908     8300.0\n",
      "1909     9100.0\n",
      "1910     7400.0\n",
      "1911     8000.0\n",
      "1912    12300.0\n",
      "1913    19500.0\n",
      "1914    45700.0\n",
      "1915    51100.0\n",
      "1916    29700.0\n",
      "1917    15800.0\n",
      "1918     9700.0\n",
      "1919    10100.0\n",
      "1920     8600.0\n",
      "Name: lynx, dtype: float64\n"
     ]
    }
   ],
   "source": [
    "print(data['lynx'])"
   ]
  },
  {
   "cell_type": "markdown",
   "metadata": {},
   "source": [
    "In order to access data by row label, use the .loc attribute:"
   ]
  },
  {
   "cell_type": "code",
   "execution_count": 37,
   "metadata": {},
   "outputs": [
    {
     "name": "stdout",
     "output_type": "stream",
     "text": [
      "hare      16200.0\n",
      "lynx      10100.0\n",
      "carrot    41300.0\n",
      "Name: 1919, dtype: float64\n",
      "         hare     lynx  carrot\n",
      "year                          \n",
      "1900  30000.0   4000.0   48300\n",
      "1901  47200.0   6100.0   48200\n",
      "1902  70200.0   9800.0   41500\n",
      "1903  77400.0  35200.0   38200\n",
      "1904  36300.0  59400.0   40600\n",
      "1905  20600.0  41700.0   39800\n"
     ]
    }
   ],
   "source": [
    "# print the 1919 row\n",
    "print(data.loc[1919])\n",
    "# print the range of data between 1900 and 1905\n",
    "print(data.loc[1900:1905])"
   ]
  },
  {
   "cell_type": "markdown",
   "metadata": {},
   "source": [
    "The underlying numpy arrays can be accesses using the `.values` attribute."
   ]
  },
  {
   "cell_type": "code",
   "execution_count": 38,
   "metadata": {},
   "outputs": [
    {
     "name": "stdout",
     "output_type": "stream",
     "text": [
      "[  4000.   6100.   9800.  35200.  59400.  41700.  19000.  13000.   8300.\n",
      "   9100.   7400.   8000.  12300.  19500.  45700.  51100.  29700.  15800.\n",
      "   9700.  10100.   8600.]\n"
     ]
    }
   ],
   "source": [
    "print(data['lynx'].values)"
   ]
  },
  {
   "cell_type": "code",
   "execution_count": 39,
   "metadata": {},
   "outputs": [
    {
     "name": "stdout",
     "output_type": "stream",
     "text": [
      "[[ 30000.   4000.  48300.]\n",
      " [ 47200.   6100.  48200.]\n",
      " [ 70200.   9800.  41500.]\n",
      " [ 77400.  35200.  38200.]\n",
      " [ 36300.  59400.  40600.]\n",
      " [ 20600.  41700.  39800.]\n",
      " [ 18100.  19000.  38600.]\n",
      " [ 21400.  13000.  42300.]\n",
      " [ 22000.   8300.  44500.]\n",
      " [ 25400.   9100.  42100.]\n",
      " [ 27100.   7400.  46000.]\n",
      " [ 40300.   8000.  46800.]\n",
      " [ 57000.  12300.  43800.]\n",
      " [ 76600.  19500.  40900.]\n",
      " [ 52300.  45700.  39400.]\n",
      " [ 19500.  51100.  39000.]\n",
      " [ 11200.  29700.  36700.]\n",
      " [  7600.  15800.  41800.]\n",
      " [ 14600.   9700.  43300.]\n",
      " [ 16200.  10100.  41300.]\n",
      " [ 24700.   8600.  47300.]]\n"
     ]
    }
   ],
   "source": [
    "print(data.values)"
   ]
  },
  {
   "cell_type": "code",
   "execution_count": null,
   "metadata": {},
   "outputs": [],
   "source": []
  }
 ],
 "metadata": {
  "celltoolbar": "Slideshow",
  "kernelspec": {
   "display_name": "Python 3",
   "language": "python",
   "name": "python3"
  },
  "language_info": {
   "codemirror_mode": {
    "name": "ipython",
    "version": 3
   },
   "file_extension": ".py",
   "mimetype": "text/x-python",
   "name": "python",
   "nbconvert_exporter": "python",
   "pygments_lexer": "ipython3",
   "version": "3.5.3"
  }
 },
 "nbformat": 4,
 "nbformat_minor": 1
}
