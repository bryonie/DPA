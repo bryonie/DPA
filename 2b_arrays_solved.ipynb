{
 "cells": [
  {
   "cell_type": "markdown",
   "metadata": {},
   "source": [
    "# 2. Arrays - Part 2"
   ]
  },
  {
   "cell_type": "code",
   "execution_count": 1,
   "metadata": {},
   "outputs": [],
   "source": [
    "import numpy as np\n",
    "np.random.seed(123)"
   ]
  },
  {
   "cell_type": "markdown",
   "metadata": {},
   "source": [
    "## Array Indexing\n",
    "\n",
    "For complete information  about indexing see\n",
    "http://docs.scipy.org/doc/numpy/user/basics.indexing.html\n"
   ]
  },
  {
   "cell_type": "markdown",
   "metadata": {},
   "source": [
    "\n",
    "## Matrix indexing\n",
    "\n",
    "This is the regular indexing where we use one index for each dimension. When accessing more than one element, the slice syntax `m:n` can be used."
   ]
  },
  {
   "cell_type": "code",
   "execution_count": 2,
   "metadata": {},
   "outputs": [
    {
     "name": "stdout",
     "output_type": "stream",
     "text": [
      "[[[ 0  1  2  3]\n",
      "  [ 4  5  6  7]\n",
      "  [ 8  9 10 11]]\n",
      "\n",
      " [[12 13 14 15]\n",
      "  [16 17 18 19]\n",
      "  [20 21 22 23]]]\n"
     ]
    }
   ],
   "source": [
    "# indexing in a 3-dimensional array\n",
    "z = np.arange(24).reshape((2, 3, 4))\n",
    "print(z)"
   ]
  },
  {
   "cell_type": "code",
   "execution_count": 3,
   "metadata": {},
   "outputs": [
    {
     "name": "stdout",
     "output_type": "stream",
     "text": [
      "[[ 7 11]\n",
      " [19 23]]\n",
      "[[ 8  9 10 11]\n",
      " [20 21 22 23]]\n"
     ]
    }
   ],
   "source": [
    "# slices\n",
    "print(z[0:2, 1:3, 3])\n",
    "print(z[:, 2, :])"
   ]
  },
  {
   "cell_type": "markdown",
   "metadata": {},
   "source": [
    "## Linear indexing \n",
    "\n",
    "Linear indexing transforms an n-dimensional array to a 1-dimensional list. This linear index is returned when the `argmin` and `argmax` function are applied to an n-dimensional array. \n",
    "\n",
    "To convert a linear index a matrix index, use the function `numpy.unravel_index()`, where the first argument is the linear index and the second argument is the shape of the array for which you want to transform the index."
   ]
  },
  {
   "cell_type": "code",
   "execution_count": 4,
   "metadata": {},
   "outputs": [
    {
     "name": "stdout",
     "output_type": "stream",
     "text": [
      "\n",
      " For a array with dimensions (2, 3, 4), the linear index:  10  is equal to multidimensional index:  (0, 2, 2)\n"
     ]
    }
   ],
   "source": [
    "# linear indexing\n",
    "linear_index = 10\n",
    "print(\"\\n For a array with dimensions (2, 3, 4), the linear index: \", linear_index, \" is equal to \\\n",
    "multidimensional index: \", np.unravel_index(linear_index, z.shape))"
   ]
  },
  {
   "cell_type": "markdown",
   "metadata": {},
   "source": [
    "#### Exercise 2b.1\n",
    "\n",
    "Create a $4\\times3$ matrix of random numbers between $0$ and $1$. \n",
    "Find the row and column position of the minimum and the maximum value."
   ]
  },
  {
   "cell_type": "code",
   "execution_count": 5,
   "metadata": {},
   "outputs": [
    {
     "name": "stdout",
     "output_type": "stream",
     "text": [
      "[[ 0.69646919  0.28613933  0.22685145]\n",
      " [ 0.55131477  0.71946897  0.42310646]\n",
      " [ 0.9807642   0.68482974  0.4809319 ]\n",
      " [ 0.39211752  0.34317802  0.72904971]]\n"
     ]
    }
   ],
   "source": [
    "# 8<\n",
    "A = np.random.uniform(0, 1, (4, 3))\n",
    "print(A)"
   ]
  },
  {
   "cell_type": "code",
   "execution_count": 6,
   "metadata": {},
   "outputs": [
    {
     "name": "stdout",
     "output_type": "stream",
     "text": [
      "Largest value is at linear position 6\n",
      "Which is row 2 column 0\n"
     ]
    }
   ],
   "source": [
    "largest = np.argmax(A)\n",
    "smallest = np.argmin(A)\n",
    "print(\"Largest value is at linear position {}\".format(largest))\n",
    "row, col = np.unravel_index(largest, A.shape)\n",
    "print(\"Which is row {} column {}\".format(row, col))\n"
   ]
  },
  {
   "cell_type": "markdown",
   "metadata": {},
   "source": [
    "#### Exercise 2b.2\n",
    "\n",
    "Complete the following code to print years with the smallest number of hares, lynxes and carrots in the \n",
    "populations dataset."
   ]
  },
  {
   "cell_type": "code",
   "execution_count": 7,
   "metadata": {},
   "outputs": [
    {
     "name": "stdout",
     "output_type": "stream",
     "text": [
      "Least # of species 1 in year 1917.0\n",
      "Least # of species 2 in year 1900.0\n",
      "Least # of species 3 in year 1916.0\n"
     ]
    }
   ],
   "source": [
    "population = np.loadtxt(\"population.txt\")\n",
    "for col in [1, 2, 3]:\n",
    "    # 8<---------------------------\n",
    "    i = population[:, col].argmin()\n",
    "    year = population[i, 0]\n",
    "    print(\"Least # of species {} in year {}\".format(col, year))"
   ]
  },
  {
   "cell_type": "markdown",
   "metadata": {},
   "source": [
    "### Boolean indexing\n",
    "\n",
    "A boolean index can be created directly, but most often it is built by specifying a certain condition.\n",
    "\n",
    "The condition will return a `True` or `False` for every position in the array and when the condition is `True` the corresponding element will be retrieved."
   ]
  },
  {
   "cell_type": "code",
   "execution_count": 8,
   "metadata": {},
   "outputs": [
    {
     "name": "stdout",
     "output_type": "stream",
     "text": [
      "Only elements of x for which the value in y is True:  [1 3 5]\n",
      "Only elements of x for which the condition is True:  [4 5]\n"
     ]
    }
   ],
   "source": [
    "# Boolean indexing\n",
    "x = np.arange(1, 6)\n",
    "y = np.array([True, False, True, False, True ])\n",
    "print(\"Only elements of x for which the value in y is True: \", x[y])\n",
    "\n",
    "# boolean indexing by using a condition\n",
    "print(\"Only elements of x for which the condition is True: \", x[x>3])"
   ]
  },
  {
   "cell_type": "markdown",
   "metadata": {},
   "source": [
    "#### Exercise 2b.3\n",
    "Use the population data to\n",
    "\n",
    "1. Select all the years in which there are more than 50000 lynxes;\n",
    "2. Select all the years in which there are more lynxes than hares."
   ]
  },
  {
   "cell_type": "code",
   "execution_count": 9,
   "metadata": {},
   "outputs": [
    {
     "name": "stdout",
     "output_type": "stream",
     "text": [
      "[ 1904.  1915.]\n"
     ]
    }
   ],
   "source": [
    "# 8<----------------------\n",
    "\n",
    "# 1.\n",
    "\n",
    "index = population[:, 2] > 50000\n",
    "years = population[index, 0]\n",
    "print(years)"
   ]
  },
  {
   "cell_type": "code",
   "execution_count": 10,
   "metadata": {},
   "outputs": [
    {
     "name": "stdout",
     "output_type": "stream",
     "text": [
      "[ 1904.  1905.  1906.  1915.  1916.  1917.]\n"
     ]
    }
   ],
   "source": [
    "#2.\n",
    "index = population[:, 2] > population[:, 1]\n",
    "years = population[index, 0]\n",
    "print(years)"
   ]
  },
  {
   "cell_type": "code",
   "execution_count": 11,
   "metadata": {},
   "outputs": [
    {
     "name": "stdout",
     "output_type": "stream",
     "text": [
      "         hare     lynx  carrot\n",
      "year                          \n",
      "1904  36300.0  59400.0   40600\n",
      "1915  19500.0  51100.0   39000\n"
     ]
    }
   ],
   "source": [
    "# 8<----------------------\n",
    "# Solution with pandas\n",
    "import pandas as pd\n",
    "data = pd.read_csv(\"population.csv\", sep='\\t', index_col='year')\n",
    "# 1.\n",
    "\n",
    "print(data.loc[data['lynx'] > 50000])"
   ]
  },
  {
   "cell_type": "code",
   "execution_count": 12,
   "metadata": {},
   "outputs": [
    {
     "name": "stdout",
     "output_type": "stream",
     "text": [
      "[1904 1915]\n"
     ]
    }
   ],
   "source": [
    "# 8<----------------------\n",
    "# Or to just print the years:\n",
    "print(data.loc[data['lynx'] > 50000].index.values)"
   ]
  },
  {
   "cell_type": "code",
   "execution_count": 13,
   "metadata": {},
   "outputs": [
    {
     "name": "stdout",
     "output_type": "stream",
     "text": [
      "[1904 1905 1906 1915 1916 1917]\n"
     ]
    }
   ],
   "source": [
    "# 8<----------------------\n",
    "# 2.\n",
    "print(data.loc[data['lynx'] > data['hare']].index.values)"
   ]
  },
  {
   "cell_type": "markdown",
   "metadata": {},
   "source": [
    "### Indexing with an array of indices\n",
    "\n",
    "We specify a separate array storing indices as integers, we will retrieve exactly the elements of the array with these indices.\n",
    "\n",
    "One advantage of this is that we can explicitly specify the order in which we want the values and we can return multiple times the value at a certain position. "
   ]
  },
  {
   "cell_type": "code",
   "execution_count": 14,
   "metadata": {},
   "outputs": [
    {
     "name": "stdout",
     "output_type": "stream",
     "text": [
      "Array x:  [100 101 102 103 104 105 106 107 108 109 110]\n",
      "Array with indices:  [8 3 8 4 9 3]\n",
      "Indexing with an array of indices will give: [108 103 108 104 109 103]\n"
     ]
    }
   ],
   "source": [
    "x = np.arange(100, 111)\n",
    "y = np.array([8, 3, 8, 4, 9, 3])\n",
    "print(\"Array x: \", x)\n",
    "print(\"Array with indices: \", y)\n",
    "print(\"Indexing with an array of indices will give:\", x[y])"
   ]
  },
  {
   "cell_type": "markdown",
   "metadata": {},
   "source": [
    "#### Exercise 2b.4\n",
    "\n",
    "Indexing with an array is often useful when we want to randomize the order of items in some data. Complete the following code which creates a scrambled version of the population data"
   ]
  },
  {
   "cell_type": "code",
   "execution_count": 15,
   "metadata": {},
   "outputs": [
    {
     "name": "stdout",
     "output_type": "stream",
     "text": [
      "[ 1900.  1901.  1902.  1903.  1904.  1905.  1906.  1907.  1908.  1909.\n",
      "  1910.  1911.  1912.  1913.  1914.  1915.  1916.  1917.  1918.  1919.\n",
      "  1920.]\n",
      "[ 1909.  1908.  1920.  1912.  1906.  1905.  1917.  1910.  1911.  1913.\n",
      "  1915.  1902.  1903.  1907.  1901.  1918.  1916.  1900.  1904.  1914.\n",
      "  1919.]\n"
     ]
    }
   ],
   "source": [
    "population = np.loadtxt(\"population.txt\")\n",
    "\n",
    "# Create an index for the rows of population (from 0 to population.shape[0])\n",
    "index = np.arange(0, population.shape[0])\n",
    "\n",
    "# Shuffle the index\n",
    "# 8<----------------\n",
    "np.random.shuffle(index)\n",
    "#print(index)\n",
    "# Create a scrambled version\n",
    "population_rand = population[index,:]\n",
    "print(population[:, 0])\n",
    "print(population_rand[:, 0])"
   ]
  },
  {
   "cell_type": "markdown",
   "metadata": {},
   "source": [
    "## Vector concatenation and stacking\n",
    "\n",
    "Sometimes we want to combine two or more vectors to create an array. \n",
    "\n",
    "We can concatenate all vectors in a list, or stack them into rows or columns:"
   ]
  },
  {
   "cell_type": "code",
   "execution_count": 16,
   "metadata": {},
   "outputs": [
    {
     "name": "stdout",
     "output_type": "stream",
     "text": [
      "Concatenate\n",
      "[ 0  1  2  3  4  5  6  7  8  9 10 11 12 13 14]\n",
      "Stack into rows\n",
      "[[ 0  1  2  3  4]\n",
      " [ 5  6  7  8  9]\n",
      " [10 11 12 13 14]]\n",
      "Stack into columns\n",
      "[[ 0  5 10]\n",
      " [ 1  6 11]\n",
      " [ 2  7 12]\n",
      " [ 3  8 13]\n",
      " [ 4  9 14]]\n"
     ]
    }
   ],
   "source": [
    "x = np.arange(0, 5)                     \n",
    "y = np.arange(5, 10)   \n",
    "z = np.arange(10, 15)\n",
    "print(\"Concatenate\")\n",
    "print( np.concatenate([x, y, z]))\n",
    "\n",
    "print(\"Stack into rows\")\n",
    "print( np.stack([x, y, z], axis=0))\n",
    "\n",
    "print(\"Stack into columns\")\n",
    "print( np.stack([x, y, z], axis=1))"
   ]
  },
  {
   "cell_type": "code",
   "execution_count": 17,
   "metadata": {},
   "outputs": [
    {
     "data": {
      "text/plain": [
       "array([[0, 1, 2, 3, 4],\n",
       "       [0, 1, 2, 3, 4],\n",
       "       [0, 1, 2, 3, 4]])"
      ]
     },
     "execution_count": 17,
     "metadata": {},
     "output_type": "execute_result"
    }
   ],
   "source": [
    "np.stack([x,x,x], axis=0)"
   ]
  },
  {
   "cell_type": "markdown",
   "metadata": {},
   "source": [
    "#### Exercise 2b.5\n",
    "\n",
    "Load the population data into an array and use the stack create a re-arraged version of this data where the order of columns is as follows: year, carrot, hare, lynx."
   ]
  },
  {
   "cell_type": "code",
   "execution_count": 19,
   "metadata": {},
   "outputs": [
    {
     "name": "stdout",
     "output_type": "stream",
     "text": [
      "[[  1900.  48300.  30000.   4000.]\n",
      " [  1901.  48200.  47200.   6100.]\n",
      " [  1902.  41500.  70200.   9800.]\n",
      " [  1903.  38200.  77400.  35200.]\n",
      " [  1904.  40600.  36300.  59400.]\n",
      " [  1905.  39800.  20600.  41700.]\n",
      " [  1906.  38600.  18100.  19000.]\n",
      " [  1907.  42300.  21400.  13000.]\n",
      " [  1908.  44500.  22000.   8300.]\n",
      " [  1909.  42100.  25400.   9100.]\n",
      " [  1910.  46000.  27100.   7400.]\n",
      " [  1911.  46800.  40300.   8000.]\n",
      " [  1912.  43800.  57000.  12300.]\n",
      " [  1913.  40900.  76600.  19500.]\n",
      " [  1914.  39400.  52300.  45700.]\n",
      " [  1915.  39000.  19500.  51100.]\n",
      " [  1916.  36700.  11200.  29700.]\n",
      " [  1917.  41800.   7600.  15800.]\n",
      " [  1918.  43300.  14600.   9700.]\n",
      " [  1919.  41300.  16200.  10100.]\n",
      " [  1920.  47300.  24700.   8600.]]\n"
     ]
    }
   ],
   "source": [
    "# 8<------\n",
    "population = np.loadtxt(\"population.txt\")\n",
    "population_out = np.stack([population[:, 0], population[:, 3], population[:, 1], population[:, 2]], axis=1)\n",
    "print(population_out)"
   ]
  },
  {
   "cell_type": "markdown",
   "metadata": {},
   "source": [
    "### Save data set to file\n",
    "\n",
    "To save an array from numpy as a separate file you specify the filename and the array you want to save. Use the following functions:\n",
    "- `numpy.savetxt(filename, array)` : save an array to a text file. Some optional arguments are: delimiter=' ', newline = '\\n', header = ' '. http://docs.scipy.org/doc/numpy-1.10.0/reference/generated/numpy.savetxt.html#numpy.savetxt\n",
    "- `numpy.save(filename, array)` : save an array to a binary file in numpy `.npy` format. http://docs.scipy.org/doc/numpy-1.10.0/reference/generated/numpy.save.html#numpy.save\n"
   ]
  },
  {
   "cell_type": "markdown",
   "metadata": {},
   "source": [
    "#### Exercise 2b.6 \n",
    "\n",
    "Save the population data to a `.npy` file. Figure out how to load it back into a numpy array. Check if the data is unchanged."
   ]
  },
  {
   "cell_type": "code",
   "execution_count": 20,
   "metadata": {},
   "outputs": [
    {
     "name": "stdout",
     "output_type": "stream",
     "text": [
      "True\n"
     ]
    }
   ],
   "source": [
    "population = np.loadtxt(\"population.txt\")\n",
    "# 8<-----\n",
    "np.save(\"population.npy\", population)\n",
    "zzz = np.load(\"population.npy\")\n",
    "print(np.all(population == zzz))"
   ]
  },
  {
   "cell_type": "code",
   "execution_count": null,
   "metadata": {},
   "outputs": [],
   "source": []
  }
 ],
 "metadata": {
  "kernelspec": {
   "display_name": "Python 3",
   "language": "python",
   "name": "python3"
  },
  "language_info": {
   "codemirror_mode": {
    "name": "ipython",
    "version": 3
   },
   "file_extension": ".py",
   "mimetype": "text/x-python",
   "name": "python",
   "nbconvert_exporter": "python",
   "pygments_lexer": "ipython3",
   "version": "3.5.3"
  }
 },
 "nbformat": 4,
 "nbformat_minor": 1
}
