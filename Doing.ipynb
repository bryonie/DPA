{
 "cells": [
  {
   "cell_type": "markdown",
   "metadata": {},
   "source": [
    "# Question 1"
   ]
  },
  {
   "cell_type": "code",
   "execution_count": 1,
   "metadata": {},
   "outputs": [],
   "source": [
    "import numpy as np"
   ]
  },
  {
   "cell_type": "code",
   "execution_count": 4,
   "metadata": {},
   "outputs": [],
   "source": [
    "def transformRandomBetaValues(a, b, number):\n",
    "    z = np.random.uniform(a, b, number)\n",
    "    return (np.sin(z))**4"
   ]
  },
  {
   "cell_type": "code",
   "execution_count": 5,
   "metadata": {},
   "outputs": [
    {
     "output_type": "execute_result",
     "data": {
      "text/plain": "array([0.12281276, 0.1035537 , 0.15264817, 0.13063077, 0.14170836,\n       0.14571159, 0.13884394, 0.12764938, 0.12417199, 0.11483297,\n       0.12266751, 0.10567827])"
     },
     "metadata": {},
     "execution_count": 5
    }
   ],
   "source": [
    "np.random.seed(1)\n",
    "\n",
    "transformRandomBetaValues(10.1,10,12)"
   ]
  },
  {
   "cell_type": "markdown",
   "metadata": {},
   "source": [
    "# Question 2"
   ]
  },
  {
   "cell_type": "code",
   "execution_count": 6,
   "metadata": {},
   "outputs": [],
   "source": [
    "import numpy as np"
   ]
  },
  {
   "cell_type": "code",
   "execution_count": 14,
   "metadata": {},
   "outputs": [],
   "source": [
    "def subsampleMedianDiff(a, x, y):\n",
    "    return np.median(a),np.median(a)\n"
   ]
  },
  {
   "cell_type": "code",
   "execution_count": 15,
   "metadata": {},
   "outputs": [
    {
     "output_type": "execute_result",
     "data": {
      "text/plain": "(7.0, 7.0)"
     },
     "metadata": {},
     "execution_count": 15
    }
   ],
   "source": [
    "a = np.array([4,5,7,8,2,3,9,11,10])\n",
    "\n",
    "subsampleMedianDiff(a,2,3)"
   ]
  },
  {
   "cell_type": "code",
   "execution_count": 12,
   "metadata": {
    "tags": []
   },
   "outputs": [
    {
     "output_type": "error",
     "ename": "TypeError",
     "evalue": "'>' not supported between instances of 'tuple' and 'int'",
     "traceback": [
      "\u001b[1;31m---------------------------------------------------------------------------\u001b[0m",
      "\u001b[1;31mTypeError\u001b[0m                                 Traceback (most recent call last)",
      "\u001b[1;32m<ipython-input-12-c7b15d21f67b>\u001b[0m in \u001b[0;36m<module>\u001b[1;34m\u001b[0m\n\u001b[0;32m      1\u001b[0m \u001b[0ma\u001b[0m \u001b[1;33m=\u001b[0m \u001b[0mnp\u001b[0m\u001b[1;33m.\u001b[0m\u001b[0marray\u001b[0m\u001b[1;33m(\u001b[0m\u001b[1;33m[\u001b[0m\u001b[1;36m4\u001b[0m\u001b[1;33m,\u001b[0m\u001b[1;36m5\u001b[0m\u001b[1;33m,\u001b[0m\u001b[1;36m7\u001b[0m\u001b[1;33m,\u001b[0m\u001b[1;36m8\u001b[0m\u001b[1;33m,\u001b[0m\u001b[1;36m2\u001b[0m\u001b[1;33m,\u001b[0m\u001b[1;36m3\u001b[0m\u001b[1;33m,\u001b[0m\u001b[1;36m9\u001b[0m\u001b[1;33m,\u001b[0m\u001b[1;36m11\u001b[0m\u001b[1;33m,\u001b[0m\u001b[1;36m10\u001b[0m\u001b[1;33m]\u001b[0m\u001b[1;33m)\u001b[0m\u001b[1;33m\u001b[0m\u001b[1;33m\u001b[0m\u001b[0m\n\u001b[0;32m      2\u001b[0m \u001b[1;33m\u001b[0m\u001b[0m\n\u001b[1;32m----> 3\u001b[1;33m \u001b[0mprint\u001b[0m\u001b[1;33m(\u001b[0m\u001b[0ma\u001b[0m\u001b[1;33m[\u001b[0m\u001b[0mnp\u001b[0m\u001b[1;33m.\u001b[0m\u001b[0mwhere\u001b[0m\u001b[1;33m(\u001b[0m\u001b[0ma\u001b[0m\u001b[1;33m)\u001b[0m \u001b[1;33m>\u001b[0m \u001b[1;36m3\u001b[0m\u001b[1;33m]\u001b[0m\u001b[1;33m)\u001b[0m\u001b[1;33m\u001b[0m\u001b[1;33m\u001b[0m\u001b[0m\n\u001b[0m",
      "\u001b[1;31mTypeError\u001b[0m: '>' not supported between instances of 'tuple' and 'int'"
     ]
    }
   ],
   "source": [
    "a = np.array([4,5,7,8,2,3,9,11,10])\n",
    "\n",
    "print(a[np.where(a) > 3])"
   ]
  },
  {
   "cell_type": "markdown",
   "metadata": {},
   "source": [
    "# Question 3"
   ]
  },
  {
   "cell_type": "code",
   "execution_count": 16,
   "metadata": {},
   "outputs": [],
   "source": [
    "import numpy as np"
   ]
  },
  {
   "cell_type": "code",
   "execution_count": 44,
   "metadata": {},
   "outputs": [],
   "source": [
    "def matrixCutter(a):\n",
    "    b = a.reshape(int(a.size**0.5), int(a.size**0.5))\n",
    "    return b[0:2,0:b.shape[0] - 1]"
   ]
  },
  {
   "cell_type": "code",
   "execution_count": 49,
   "metadata": {
    "tags": []
   },
   "outputs": [
    {
     "output_type": "stream",
     "name": "stdout",
     "text": "[[24  3 56 72  0 21 19 74 41]\n [21 38 96 20 44 93 39 14 26]]\n[[ 1.  2.  3.  4.  5.  6.  7.  8.  9.]\n [11. 12. 13. 14. 15. 16. 17. 18. 19.]]\n"
    }
   ],
   "source": [
    "np.random.seed(3)\n",
    "\n",
    "a = np.random.randint(0, 100, 100)\n",
    "x = np.linspace(1,100,100)\n",
    "\n",
    "print(matrixCutter(a))\n",
    "print(matrixCutter(x))"
   ]
  },
  {
   "cell_type": "markdown",
   "metadata": {},
   "source": [
    "# Question 4"
   ]
  },
  {
   "cell_type": "code",
   "execution_count": 50,
   "metadata": {},
   "outputs": [],
   "source": [
    "import numpy as np"
   ]
  },
  {
   "cell_type": "code",
   "execution_count": 66,
   "metadata": {},
   "outputs": [],
   "source": [
    "def removeLastTwoEntries(a):\n",
    "    return a[0:a.shape[0]-2,0:a.shape[1]-2,0:a.shape[2]-2]"
   ]
  },
  {
   "cell_type": "code",
   "execution_count": 68,
   "metadata": {
    "tags": []
   },
   "outputs": [
    {
     "output_type": "stream",
     "name": "stdout",
     "text": "Matric A:\n[[[  1   2   3   4   5   6]\n  [  7   8   9  10  11  12]\n  [ 13  14  15  16  17  18]\n  [ 19  20  21  22  23  24]\n  [ 25  26  27  28  29  30]]\n\n [[ 31  32  33  34  35  36]\n  [ 37  38  39  40  41  42]\n  [ 43  44  45  46  47  48]\n  [ 49  50  51  52  53  54]\n  [ 55  56  57  58  59  60]]\n\n [[ 61  62  63  64  65  66]\n  [ 67  68  69  70  71  72]\n  [ 73  74  75  76  77  78]\n  [ 79  80  81  82  83  84]\n  [ 85  86  87  88  89  90]]\n\n [[ 91  92  93  94  95  96]\n  [ 97  98  99 100 101 102]\n  [103 104 105 106 107 108]\n  [109 110 111 112 113 114]\n  [115 116 117 118 119 120]]]\n\nMatric B:\n[[[ 1  2  3  4]\n  [ 7  8  9 10]\n  [13 14 15 16]]\n\n [[31 32 33 34]\n  [37 38 39 40]\n  [43 44 45 46]]]\n\nShapes:\n(4, 5, 6) (2, 3, 4)\n"
    }
   ],
   "source": [
    "#test case 1\n",
    "a = np.arange(1,121).reshape((4,5,6))\n",
    "print(\"Matric A:\")\n",
    "print(a)\n",
    "print()\n",
    "\n",
    "b = removeLastTwoEntries(a)\n",
    "\n",
    "print(\"Matric B:\")\n",
    "print(b)\n",
    "print()\n",
    "\n",
    "print(\"Shapes:\")\n",
    "print(a.shape, b.shape)"
   ]
  },
  {
   "cell_type": "code",
   "execution_count": 71,
   "metadata": {
    "tags": []
   },
   "outputs": [
    {
     "output_type": "stream",
     "name": "stdout",
     "text": "Matric A:\n[[[  0  -7  -2 -10   9]\n  [  0   1  -1   0  -4]\n  [-10   2  -3   4   7]\n  [ -8  -8  -9   9  -5]\n  [ -2   4  -9   0  -3]]\n\n [[  1  -9   5   6  -5]\n  [  7   4 -10 -10  -1]\n  [  8  -5  -3  -5   4]\n  [ -9   7  -9   0   1]\n  [ -6  -7   6   6 -10]]\n\n [[  6   8   8   1 -10]\n  [  3  -5   6  -9   7]\n  [  8  -8  -6  -2   2]\n  [  6   0   6  -6   7]\n  [  7  -2  -3 -10   6]]\n\n [[ -1  -9   5   1   0]\n  [  6   6   2  -6   2]\n  [  2   9   6  -8  -3]\n  [  8  -9  -7   3   8]\n  [ -9   8  -8  -7   7]]\n\n [[  1  -3  -9   1 -10]\n  [  6   1  -2  -2   4]\n  [  2   9  -6  -1   8]\n  [ -5  -1   0   7  -1]\n  [-10   3   2  -3  -6]]]\n\nMatric B:\n[[[  0  -7  -2]\n  [  0   1  -1]\n  [-10   2  -3]]\n\n [[  1  -9   5]\n  [  7   4 -10]\n  [  8  -5  -3]]\n\n [[  6   8   8]\n  [  3  -5   6]\n  [  8  -8  -6]]]\n\nShapes:\n(5, 5, 5) (3, 3, 3)\n"
    }
   ],
   "source": [
    "#test case 2\n",
    "np.random.seed(3)\n",
    "a = np.random.randint(-10, 10, 125).reshape((5,5,5))\n",
    "print(\"Matric A:\")\n",
    "print(a)\n",
    "print()\n",
    "\n",
    "b = removeLastTwoEntries(a)\n",
    "\n",
    "print(\"Matric B:\")\n",
    "print(b)\n",
    "print()\n",
    "\n",
    "print(\"Shapes:\")\n",
    "print(a.shape, b.shape)\n"
   ]
  },
  {
   "cell_type": "code",
   "execution_count": null,
   "metadata": {},
   "outputs": [],
   "source": []
  }
 ],
 "metadata": {
  "language_info": {
   "codemirror_mode": {
    "name": "ipython",
    "version": 3
   },
   "file_extension": ".py",
   "mimetype": "text/x-python",
   "name": "python",
   "nbconvert_exporter": "python",
   "pygments_lexer": "ipython3",
   "version": "3.7.4-final"
  },
  "orig_nbformat": 2,
  "kernelspec": {
   "name": "python37464bit7f6d5ef80ac84f0dbc4f0d76a489c0fa",
   "display_name": "Python 3.7.4 64-bit"
  }
 },
 "nbformat": 4,
 "nbformat_minor": 2
}